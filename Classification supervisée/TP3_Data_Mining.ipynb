{
  "nbformat": 4,
  "nbformat_minor": 0,
  "metadata": {
    "colab": {
      "name": "TP3 Data_Mining.ipynb",
      "provenance": []
    },
    "kernelspec": {
      "name": "python3",
      "display_name": "Python 3"
    },
    "language_info": {
      "name": "python"
    }
  },
  "cells": [
    {
      "cell_type": "code",
      "execution_count": 7,
      "metadata": {
        "id": "QJJfnhjFx3se"
      },
      "outputs": [],
      "source": [
        "from sklearn import datasets\n",
        "import collections\n",
        "import matplotlib\n",
        "import pylab as pl\n",
        "from sklearn import naive_bayes\n",
        "from sklearn import naive_bayes\n",
        "import numpy as np"
      ]
    },
    {
      "cell_type": "markdown",
      "source": [
        "# I- Jeux de données"
      ],
      "metadata": {
        "id": "AJfc4KUdin78"
      }
    },
    {
      "cell_type": "markdown",
      "source": [
        "#**1. Iris**"
      ],
      "metadata": {
        "id": "-NqULDAnitHF"
      }
    },
    {
      "cell_type": "markdown",
      "source": [
        "Loading Dataset:"
      ],
      "metadata": {
        "id": "MqGvhVoXyf1-"
      }
    },
    {
      "cell_type": "code",
      "source": [
        "irisData = datasets.load_iris()\n",
        "print (irisData.data)\n",
        "print (irisData.target)"
      ],
      "metadata": {
        "colab": {
          "base_uri": "https://localhost:8080/"
        },
        "id": "UpBxpw2CyV3r",
        "outputId": "acb4a8db-0023-48c9-a3ad-ecb7023818d1"
      },
      "execution_count": null,
      "outputs": [
        {
          "output_type": "stream",
          "name": "stdout",
          "text": [
            "[[5.1 3.5 1.4 0.2]\n",
            " [4.9 3.  1.4 0.2]\n",
            " [4.7 3.2 1.3 0.2]\n",
            " [4.6 3.1 1.5 0.2]\n",
            " [5.  3.6 1.4 0.2]\n",
            " [5.4 3.9 1.7 0.4]\n",
            " [4.6 3.4 1.4 0.3]\n",
            " [5.  3.4 1.5 0.2]\n",
            " [4.4 2.9 1.4 0.2]\n",
            " [4.9 3.1 1.5 0.1]\n",
            " [5.4 3.7 1.5 0.2]\n",
            " [4.8 3.4 1.6 0.2]\n",
            " [4.8 3.  1.4 0.1]\n",
            " [4.3 3.  1.1 0.1]\n",
            " [5.8 4.  1.2 0.2]\n",
            " [5.7 4.4 1.5 0.4]\n",
            " [5.4 3.9 1.3 0.4]\n",
            " [5.1 3.5 1.4 0.3]\n",
            " [5.7 3.8 1.7 0.3]\n",
            " [5.1 3.8 1.5 0.3]\n",
            " [5.4 3.4 1.7 0.2]\n",
            " [5.1 3.7 1.5 0.4]\n",
            " [4.6 3.6 1.  0.2]\n",
            " [5.1 3.3 1.7 0.5]\n",
            " [4.8 3.4 1.9 0.2]\n",
            " [5.  3.  1.6 0.2]\n",
            " [5.  3.4 1.6 0.4]\n",
            " [5.2 3.5 1.5 0.2]\n",
            " [5.2 3.4 1.4 0.2]\n",
            " [4.7 3.2 1.6 0.2]\n",
            " [4.8 3.1 1.6 0.2]\n",
            " [5.4 3.4 1.5 0.4]\n",
            " [5.2 4.1 1.5 0.1]\n",
            " [5.5 4.2 1.4 0.2]\n",
            " [4.9 3.1 1.5 0.2]\n",
            " [5.  3.2 1.2 0.2]\n",
            " [5.5 3.5 1.3 0.2]\n",
            " [4.9 3.6 1.4 0.1]\n",
            " [4.4 3.  1.3 0.2]\n",
            " [5.1 3.4 1.5 0.2]\n",
            " [5.  3.5 1.3 0.3]\n",
            " [4.5 2.3 1.3 0.3]\n",
            " [4.4 3.2 1.3 0.2]\n",
            " [5.  3.5 1.6 0.6]\n",
            " [5.1 3.8 1.9 0.4]\n",
            " [4.8 3.  1.4 0.3]\n",
            " [5.1 3.8 1.6 0.2]\n",
            " [4.6 3.2 1.4 0.2]\n",
            " [5.3 3.7 1.5 0.2]\n",
            " [5.  3.3 1.4 0.2]\n",
            " [7.  3.2 4.7 1.4]\n",
            " [6.4 3.2 4.5 1.5]\n",
            " [6.9 3.1 4.9 1.5]\n",
            " [5.5 2.3 4.  1.3]\n",
            " [6.5 2.8 4.6 1.5]\n",
            " [5.7 2.8 4.5 1.3]\n",
            " [6.3 3.3 4.7 1.6]\n",
            " [4.9 2.4 3.3 1. ]\n",
            " [6.6 2.9 4.6 1.3]\n",
            " [5.2 2.7 3.9 1.4]\n",
            " [5.  2.  3.5 1. ]\n",
            " [5.9 3.  4.2 1.5]\n",
            " [6.  2.2 4.  1. ]\n",
            " [6.1 2.9 4.7 1.4]\n",
            " [5.6 2.9 3.6 1.3]\n",
            " [6.7 3.1 4.4 1.4]\n",
            " [5.6 3.  4.5 1.5]\n",
            " [5.8 2.7 4.1 1. ]\n",
            " [6.2 2.2 4.5 1.5]\n",
            " [5.6 2.5 3.9 1.1]\n",
            " [5.9 3.2 4.8 1.8]\n",
            " [6.1 2.8 4.  1.3]\n",
            " [6.3 2.5 4.9 1.5]\n",
            " [6.1 2.8 4.7 1.2]\n",
            " [6.4 2.9 4.3 1.3]\n",
            " [6.6 3.  4.4 1.4]\n",
            " [6.8 2.8 4.8 1.4]\n",
            " [6.7 3.  5.  1.7]\n",
            " [6.  2.9 4.5 1.5]\n",
            " [5.7 2.6 3.5 1. ]\n",
            " [5.5 2.4 3.8 1.1]\n",
            " [5.5 2.4 3.7 1. ]\n",
            " [5.8 2.7 3.9 1.2]\n",
            " [6.  2.7 5.1 1.6]\n",
            " [5.4 3.  4.5 1.5]\n",
            " [6.  3.4 4.5 1.6]\n",
            " [6.7 3.1 4.7 1.5]\n",
            " [6.3 2.3 4.4 1.3]\n",
            " [5.6 3.  4.1 1.3]\n",
            " [5.5 2.5 4.  1.3]\n",
            " [5.5 2.6 4.4 1.2]\n",
            " [6.1 3.  4.6 1.4]\n",
            " [5.8 2.6 4.  1.2]\n",
            " [5.  2.3 3.3 1. ]\n",
            " [5.6 2.7 4.2 1.3]\n",
            " [5.7 3.  4.2 1.2]\n",
            " [5.7 2.9 4.2 1.3]\n",
            " [6.2 2.9 4.3 1.3]\n",
            " [5.1 2.5 3.  1.1]\n",
            " [5.7 2.8 4.1 1.3]\n",
            " [6.3 3.3 6.  2.5]\n",
            " [5.8 2.7 5.1 1.9]\n",
            " [7.1 3.  5.9 2.1]\n",
            " [6.3 2.9 5.6 1.8]\n",
            " [6.5 3.  5.8 2.2]\n",
            " [7.6 3.  6.6 2.1]\n",
            " [4.9 2.5 4.5 1.7]\n",
            " [7.3 2.9 6.3 1.8]\n",
            " [6.7 2.5 5.8 1.8]\n",
            " [7.2 3.6 6.1 2.5]\n",
            " [6.5 3.2 5.1 2. ]\n",
            " [6.4 2.7 5.3 1.9]\n",
            " [6.8 3.  5.5 2.1]\n",
            " [5.7 2.5 5.  2. ]\n",
            " [5.8 2.8 5.1 2.4]\n",
            " [6.4 3.2 5.3 2.3]\n",
            " [6.5 3.  5.5 1.8]\n",
            " [7.7 3.8 6.7 2.2]\n",
            " [7.7 2.6 6.9 2.3]\n",
            " [6.  2.2 5.  1.5]\n",
            " [6.9 3.2 5.7 2.3]\n",
            " [5.6 2.8 4.9 2. ]\n",
            " [7.7 2.8 6.7 2. ]\n",
            " [6.3 2.7 4.9 1.8]\n",
            " [6.7 3.3 5.7 2.1]\n",
            " [7.2 3.2 6.  1.8]\n",
            " [6.2 2.8 4.8 1.8]\n",
            " [6.1 3.  4.9 1.8]\n",
            " [6.4 2.8 5.6 2.1]\n",
            " [7.2 3.  5.8 1.6]\n",
            " [7.4 2.8 6.1 1.9]\n",
            " [7.9 3.8 6.4 2. ]\n",
            " [6.4 2.8 5.6 2.2]\n",
            " [6.3 2.8 5.1 1.5]\n",
            " [6.1 2.6 5.6 1.4]\n",
            " [7.7 3.  6.1 2.3]\n",
            " [6.3 3.4 5.6 2.4]\n",
            " [6.4 3.1 5.5 1.8]\n",
            " [6.  3.  4.8 1.8]\n",
            " [6.9 3.1 5.4 2.1]\n",
            " [6.7 3.1 5.6 2.4]\n",
            " [6.9 3.1 5.1 2.3]\n",
            " [5.8 2.7 5.1 1.9]\n",
            " [6.8 3.2 5.9 2.3]\n",
            " [6.7 3.3 5.7 2.5]\n",
            " [6.7 3.  5.2 2.3]\n",
            " [6.3 2.5 5.  1.9]\n",
            " [6.5 3.  5.2 2. ]\n",
            " [6.2 3.4 5.4 2.3]\n",
            " [5.9 3.  5.1 1.8]]\n",
            "[0 0 0 0 0 0 0 0 0 0 0 0 0 0 0 0 0 0 0 0 0 0 0 0 0 0 0 0 0 0 0 0 0 0 0 0 0\n",
            " 0 0 0 0 0 0 0 0 0 0 0 0 0 1 1 1 1 1 1 1 1 1 1 1 1 1 1 1 1 1 1 1 1 1 1 1 1\n",
            " 1 1 1 1 1 1 1 1 1 1 1 1 1 1 1 1 1 1 1 1 1 1 1 1 1 1 2 2 2 2 2 2 2 2 2 2 2\n",
            " 2 2 2 2 2 2 2 2 2 2 2 2 2 2 2 2 2 2 2 2 2 2 2 2 2 2 2 2 2 2 2 2 2 2 2 2 2\n",
            " 2 2]\n"
          ]
        }
      ]
    },
    {
      "cell_type": "markdown",
      "source": [
        "# **2. A Vous !**"
      ],
      "metadata": {
        "id": "zVeNshzDjAp-"
      }
    },
    {
      "cell_type": "markdown",
      "source": [
        "**Question a**\n",
        "\n",
        "Target names & Feature names"
      ],
      "metadata": {
        "id": "G3pzxNuy1Qh2"
      }
    },
    {
      "cell_type": "code",
      "source": [
        "print (irisData.target_names)\n",
        "print (irisData.feature_names)"
      ],
      "metadata": {
        "colab": {
          "base_uri": "https://localhost:8080/"
        },
        "id": "fhxwUWdzzkjx",
        "outputId": "bb20d574-1d7b-4e83-ca34-a0a50ebe6bb2"
      },
      "execution_count": null,
      "outputs": [
        {
          "output_type": "stream",
          "name": "stdout",
          "text": [
            "['setosa' 'versicolor' 'virginica']\n",
            "['sepal length (cm)', 'sepal width (cm)', 'petal length (cm)', 'petal width (cm)']\n"
          ]
        }
      ]
    },
    {
      "cell_type": "markdown",
      "source": [
        "Combien y a t-il de (ligne, colonne)?"
      ],
      "metadata": {
        "id": "pPz8qAG_1JsC"
      }
    },
    {
      "cell_type": "code",
      "source": [
        "print(irisData.data.shape)"
      ],
      "metadata": {
        "colab": {
          "base_uri": "https://localhost:8080/"
        },
        "id": "cO4wHg9Y0QhW",
        "outputId": "1663b46c-0a72-4397-f575-bc02f8a02594"
      },
      "execution_count": null,
      "outputs": [
        {
          "output_type": "stream",
          "name": "stdout",
          "text": [
            "(150, 4)\n"
          ]
        }
      ]
    },
    {
      "cell_type": "markdown",
      "source": [
        "Combien y a-t-il de données dans chaque classe ?"
      ],
      "metadata": {
        "id": "AzdKfBt108RF"
      }
    },
    {
      "cell_type": "code",
      "source": [
        "print(collections.Counter(irisData.target))"
      ],
      "metadata": {
        "colab": {
          "base_uri": "https://localhost:8080/"
        },
        "id": "DBq-113S03x1",
        "outputId": "82445377-96ce-4b13-f2de-66bfc6c075dd"
      },
      "execution_count": null,
      "outputs": [
        {
          "output_type": "stream",
          "name": "stdout",
          "text": [
            "Counter({0: 50, 1: 50, 2: 50})\n"
          ]
        }
      ]
    },
    {
      "cell_type": "markdown",
      "source": [
        "Quels \n",
        "sont les attributs et la classe du 32ème élément de l'échantillon ?"
      ],
      "metadata": {
        "id": "cR8enLfb23db"
      }
    },
    {
      "cell_type": "code",
      "source": [
        "print(irisData.target[31])"
      ],
      "metadata": {
        "colab": {
          "base_uri": "https://localhost:8080/"
        },
        "id": "VW8iP3wR2qca",
        "outputId": "da194e5c-6dad-4493-cda6-1839e279bd46"
      },
      "execution_count": null,
      "outputs": [
        {
          "output_type": "stream",
          "name": "stdout",
          "text": [
            "0\n"
          ]
        }
      ]
    },
    {
      "cell_type": "markdown",
      "source": [
        "**Question b** \n",
        "\n",
        "Comprendre, commenter et programmer le code source suivant :\n"
      ],
      "metadata": {
        "id": "ysp60-Oh4oRv"
      }
    },
    {
      "cell_type": "code",
      "source": [
        "def plot_2D(data, target, target_names):\n",
        " target_ids = range(len(target_names)) #Liste des id= [0,1,2]\n",
        " pl.figure()\n",
        " for i,  label in zip(target_ids, target_names): # zip itérateur de tube\n",
        "  # i=target_id / c=color / label=target_name\n",
        "  pl.scatter(data[target == i, 2], data[target == i, 3], label=label)\n",
        " pl.plot([2.5,2.5],[0,2.5]) #droite bleue qui sépare\n",
        " pl.legend()\n",
        " pl.show()"
      ],
      "metadata": {
        "id": "fSyAqlei3Nnd"
      },
      "execution_count": null,
      "outputs": []
    },
    {
      "cell_type": "markdown",
      "source": [
        "Est-ce qu'il existe un espace 2D dans lequel une droite permettrait de séparer les exemples d'une classe des exemples des deux autres classes ?"
      ],
      "metadata": {
        "id": "L5U2rpZu6Dv_"
      }
    },
    {
      "cell_type": "code",
      "source": [
        "plot_2D(irisData.data,irisData.target,irisData.target_names)"
      ],
      "metadata": {
        "colab": {
          "base_uri": "https://localhost:8080/",
          "height": 265
        },
        "id": "zGDUKxN24uIv",
        "outputId": "af717166-75dd-447e-b6fe-1e2dd8eb2490"
      },
      "execution_count": null,
      "outputs": [
        {
          "output_type": "display_data",
          "data": {
            "text/plain": [
              "<Figure size 432x288 with 1 Axes>"
            ],
            "image/png": "[encoded data removed]"
          },
          "metadata": {
            "needs_background": "light"
          }
        }
      ]
    },
    {
      "cell_type": "markdown",
      "source": [
        "# II- Un premier apprentissage de classiffieur"
      ],
      "metadata": {
        "id": "tGX6e2sSj2k3"
      }
    },
    {
      "cell_type": "markdown",
      "source": [
        "# **1. La variable clf :**"
      ],
      "metadata": {
        "id": "xWocqBwdj-gV"
      }
    },
    {
      "cell_type": "markdown",
      "source": [
        "Sous scikit-learn, dans toute méthode de classification (tout estimateur) représentée par la variable clf, il existe deux fonctions essentielles :\n",
        "\n",
        "**a.** La fonction **clf.fit(tab_data, tab_target)** qui apprend un modèle à partir des données (ce modèle est stocké en interne dans un enregistrement de la variable clf).\n",
        "\n",
        "**b.** La fonction **clf.predict(tab_data)** qui renvoie un tableau qui stocke, pour chaque nouvelle donnée en entrée, la classe prédite par le modèle précédemment appris via l'estimateur clf."
      ],
      "metadata": {
        "id": "yfhyhClIkCh9"
      }
    },
    {
      "cell_type": "markdown",
      "source": [
        "# **2. A vous!**"
      ],
      "metadata": {
        "id": "6N7PZnAJkPOl"
      }
    },
    {
      "cell_type": "markdown",
      "source": [
        "**Question a:**\n",
        "\n",
        "Comprendre et programmer l'exemple ci-dessous : Quel est le résultat ? => Il n'a pas de sur-apprentissage."
      ],
      "metadata": {
        "id": "0VaSlWni9s9Z"
      }
    },
    {
      "cell_type": "code",
      "source": [
        "nb = naive_bayes.MultinomialNB(fit_prior=True)# un algo d'apprentissage\n",
        "irisData = datasets.load_iris()\n",
        "nb.fit(irisData.data[:], irisData.target[:]) #Training\n",
        "p31 = nb.predict([irisData.data[31]]) #Predict 32ème élément\n",
        "print (\"the real value\" ,irisData.target[31])\n",
        "print(p31)\n",
        "plast = nb.predict(irisData.data[:-1])\n",
        "print(plast)\n",
        "p = nb.predict(irisData.data[:]) #Predict all the dataset\n",
        "print(p)"
      ],
      "metadata": {
        "colab": {
          "base_uri": "https://localhost:8080/"
        },
        "id": "_eTOSqWL7Owb",
        "outputId": "1c769f8c-2e81-4708-8bd4-6ca6aab9ddb8"
      },
      "execution_count": 3,
      "outputs": [
        {
          "output_type": "stream",
          "name": "stdout",
          "text": [
            "the real value 0\n",
            "[0]\n",
            "[0 0 0 0 0 0 0 0 0 0 0 0 0 0 0 0 0 0 0 0 0 0 0 0 0 0 0 0 0 0 0 0 0 0 0 0 0\n",
            " 0 0 0 0 0 0 0 0 0 0 0 0 0 1 1 1 1 1 1 1 1 1 1 1 1 1 1 1 1 1 1 2 1 2 1 2 1\n",
            " 1 1 1 1 1 1 1 1 1 2 1 1 1 1 1 1 1 1 1 1 1 1 1 1 1 1 2 2 2 2 2 2 2 2 2 2 2\n",
            " 2 2 2 2 2 2 2 2 2 2 2 2 2 2 2 2 2 2 1 2 1 2 1 2 2 2 2 2 2 2 2 2 2 2 2 2 2\n",
            " 2]\n",
            "[0 0 0 0 0 0 0 0 0 0 0 0 0 0 0 0 0 0 0 0 0 0 0 0 0 0 0 0 0 0 0 0 0 0 0 0 0\n",
            " 0 0 0 0 0 0 0 0 0 0 0 0 0 1 1 1 1 1 1 1 1 1 1 1 1 1 1 1 1 1 1 2 1 2 1 2 1\n",
            " 1 1 1 1 1 1 1 1 1 2 1 1 1 1 1 1 1 1 1 1 1 1 1 1 1 1 2 2 2 2 2 2 2 2 2 2 2\n",
            " 2 2 2 2 2 2 2 2 2 2 2 2 2 2 2 2 2 2 1 2 1 2 1 2 2 2 2 2 2 2 2 2 2 2 2 2 2\n",
            " 2 2]\n"
          ]
        }
      ]
    },
    {
      "cell_type": "markdown",
      "source": [
        "**Question b:**\n",
        "\n",
        "Les résultats vous semblent-ils cohérents ?\n",
        "Comment interpréter les résultats ? m'appretissage se fait sur les 100 premiers elements donc l'algo ne connais pas la classe 2\n",
        "Que proposez-vous pour équilibrer l'ensemble d'apprentissage et l'ensemble de test ?"
      ],
      "metadata": {
        "id": "FUIFqcFAlEdz"
      }
    },
    {
      "cell_type": "code",
      "source": [
        "#nb = naive_bayes.MultinomialNB(fit_prior=True)\n",
        "#nb.fit(irisData.data[:99], irisData.target[:99])\n",
        "#nb.predict(irisData.data[100:149])\n"
      ],
      "metadata": {
        "id": "xNKNwv0z_VbG"
      },
      "execution_count": null,
      "outputs": []
    },
    {
      "cell_type": "markdown",
      "source": [
        "Les résultats ne sont pas cohérents car lors de l'apprenstissage il n'a pas connu toutes les classes, mais ils donnent la classe la plus proche. Afin d'équilibrer l'ensemble d'apprentissage et l'ensemble de test, on propose de prendre de chaque classe 2/3 pour le training et 1/3 pour le test."
      ],
      "metadata": {
        "id": "IvwZ9Hn5BKSW"
      }
    },
    {
      "cell_type": "markdown",
      "source": [
        "# III- Evaluer les performances d'un classiffieur\n",
        "\n",
        "# **1. Performances sur l'ensemble d'apprentissage**\n",
        "\n",
        "**Question1**"
      ],
      "metadata": {
        "id": "RGiX1QeWlj8F"
      }
    },
    {
      "cell_type": "code",
      "source": [
        "ea = 0 #erreur d'apprentissage init 0\n",
        "Y=irisData.target\n",
        "for i in range(len(irisData.data)):\n",
        "  if (p[i] != Y[i]): \n",
        "    ea = ea+1\n",
        "print (ea/len(irisData.data))\n"
      ],
      "metadata": {
        "colab": {
          "base_uri": "https://localhost:8080/"
        },
        "id": "fzqA1TP3CGVG",
        "outputId": "21c4b90d-a3be-48aa-e7a4-0f5cd60efa51"
      },
      "execution_count": null,
      "outputs": [
        {
          "output_type": "stream",
          "name": "stdout",
          "text": [
            "0.04666666666666667\n"
          ]
        }
      ]
    },
    {
      "cell_type": "markdown",
      "source": [
        "**Question2**"
      ],
      "metadata": {
        "id": "Va68rlrpmCp8"
      }
    },
    {
      "cell_type": "markdown",
      "source": [
        "L'erreur dans une seule instruction"
      ],
      "metadata": {
        "id": "s684VNBWDpmB"
      }
    },
    {
      "cell_type": "code",
      "source": [
        "print(numpy.count_nonzero(p-irisData.target)/len(irisData.target))"
      ],
      "metadata": {
        "colab": {
          "base_uri": "https://localhost:8080/"
        },
        "id": "koxeS8dFD1ed",
        "outputId": "ec635e73-e693-4c99-e499-c98f99b52691"
      },
      "execution_count": null,
      "outputs": [
        {
          "output_type": "stream",
          "name": "stdout",
          "text": [
            "0.04666666666666667\n"
          ]
        }
      ]
    },
    {
      "cell_type": "markdown",
      "source": [
        "**Question3**\n",
        "\n",
        "Calculer le taux de bonne classification du \n",
        "modèle sur un ensemble de données stocke dans \"data\" et dont les classes sont stockées dans \"target\"."
      ],
      "metadata": {
        "id": "HXBQmS7XE1Z5"
      }
    },
    {
      "cell_type": "code",
      "source": [
        "nb.score(irisData.data,irisData.target) "
      ],
      "metadata": {
        "colab": {
          "base_uri": "https://localhost:8080/"
        },
        "id": "MUHqnQDJFBGM",
        "outputId": "bebbc9bd-9ee8-4918-9f61-5a4e1cf85f9a"
      },
      "execution_count": null,
      "outputs": [
        {
          "output_type": "execute_result",
          "data": {
            "text/plain": [
              "0.9533333333333334"
            ]
          },
          "metadata": {},
          "execution_count": 13
        }
      ]
    },
    {
      "cell_type": "markdown",
      "source": [
        "# **2. Performances en généralisation**\n",
        "**2.1. Estimer l'erreur réelle par division de l'échantillon d'apprentissage**\n",
        "\n",
        "**Question a**"
      ],
      "metadata": {
        "id": "tV8uzFjsmRL7"
      }
    },
    {
      "cell_type": "code",
      "source": [
        "import random as rd\n",
        "\n",
        "def split(S):\n",
        "    dataS1 = np.empty(shape=(100,4))\n",
        "    targetS1= np.empty(shape=(100))\n",
        "    dataS2 = S.data\n",
        "    targetS2 = S.target\n",
        "    # La taille: 2/3 S\n",
        "    size= int(2*len(S.data)/3)\n",
        "    for i in range(0,size):\n",
        "        j = rd.randint(0,len(dataS2)-1)\n",
        "        dataS1[i] = dataS2[j]\n",
        "        targetS1[i] = targetS2[j]\n",
        "        dataS2 = np.delete(dataS2 , j,0)\n",
        "        targetS2 = np.delete(targetS2,j,0)\n",
        "    print(len(targetS2))\n",
        "    return [dataS1 , targetS1 , dataS2 , targetS2]\n",
        "\n",
        "split(irisData)"
      ],
      "metadata": {
        "colab": {
          "base_uri": "https://localhost:8080/"
        },
        "id": "lTB_4omdmfuz",
        "outputId": "b1f2b410-87cb-4713-8b65-f17fc8bcbf57"
      },
      "execution_count": 8,
      "outputs": [
        {
          "output_type": "stream",
          "name": "stdout",
          "text": [
            "50\n"
          ]
        },
        {
          "output_type": "execute_result",
          "data": {
            "text/plain": [
              "[array([[5.4, 3.7, 1.5, 0.2],\n",
              "        [4.9, 3.1, 1.5, 0.2],\n",
              "        [7.4, 2.8, 6.1, 1.9],\n",
              "        [5.2, 4.1, 1.5, 0.1],\n",
              "        [6.3, 3.3, 4.7, 1.6],\n",
              "        [5.1, 3.8, 1.5, 0.3],\n",
              "        [6.6, 3. , 4.4, 1.4],\n",
              "        [5.4, 3.4, 1.7, 0.2],\n",
              "        [5.9, 3. , 5.1, 1.8],\n",
              "        [6.9, 3.2, 5.7, 2.3],\n",
              "        [5.1, 2.5, 3. , 1.1],\n",
              "        [5.8, 2.7, 5.1, 1.9],\n",
              "        [6. , 2.9, 4.5, 1.5],\n",
              "        [4.6, 3.4, 1.4, 0.3],\n",
              "        [6.1, 2.9, 4.7, 1.4],\n",
              "        [6.5, 3. , 5.2, 2. ],\n",
              "        [6.8, 3.2, 5.9, 2.3],\n",
              "        [5.1, 3.4, 1.5, 0.2],\n",
              "        [5. , 3.5, 1.3, 0.3],\n",
              "        [6.7, 2.5, 5.8, 1.8],\n",
              "        [4.9, 2.4, 3.3, 1. ],\n",
              "        [4.9, 3. , 1.4, 0.2],\n",
              "        [5.2, 2.7, 3.9, 1.4],\n",
              "        [7.9, 3.8, 6.4, 2. ],\n",
              "        [5. , 3.3, 1.4, 0.2],\n",
              "        [5.4, 3.4, 1.5, 0.4],\n",
              "        [5. , 3.6, 1.4, 0.2],\n",
              "        [7.7, 3.8, 6.7, 2.2],\n",
              "        [5. , 3.2, 1.2, 0.2],\n",
              "        [6.5, 3. , 5.5, 1.8],\n",
              "        [6.3, 3.3, 6. , 2.5],\n",
              "        [4.4, 2.9, 1.4, 0.2],\n",
              "        [6.4, 2.8, 5.6, 2.1],\n",
              "        [6.9, 3.1, 4.9, 1.5],\n",
              "        [6.4, 3.2, 5.3, 2.3],\n",
              "        [6. , 2.2, 5. , 1.5],\n",
              "        [5. , 2.3, 3.3, 1. ],\n",
              "        [6.7, 3. , 5.2, 2.3],\n",
              "        [6.7, 3. , 5. , 1.7],\n",
              "        [6.4, 2.8, 5.6, 2.2],\n",
              "        [6.7, 3.1, 4.7, 1.5],\n",
              "        [4.7, 3.2, 1.6, 0.2],\n",
              "        [5.5, 3.5, 1.3, 0.2],\n",
              "        [6.7, 3.3, 5.7, 2.5],\n",
              "        [4.6, 3.6, 1. , 0.2],\n",
              "        [7.3, 2.9, 6.3, 1.8],\n",
              "        [5.1, 3.5, 1.4, 0.2],\n",
              "        [5.7, 2.9, 4.2, 1.3],\n",
              "        [4.8, 3. , 1.4, 0.1],\n",
              "        [4.8, 3.4, 1.6, 0.2],\n",
              "        [5.1, 3.8, 1.9, 0.4],\n",
              "        [6.7, 3.1, 5.6, 2.4],\n",
              "        [6.4, 3.2, 4.5, 1.5],\n",
              "        [6.9, 3.1, 5.1, 2.3],\n",
              "        [5.6, 2.8, 4.9, 2. ],\n",
              "        [6.2, 2.9, 4.3, 1.3],\n",
              "        [5.8, 2.8, 5.1, 2.4],\n",
              "        [5.6, 3. , 4.1, 1.3],\n",
              "        [6.3, 2.5, 5. , 1.9],\n",
              "        [5.7, 2.6, 3.5, 1. ],\n",
              "        [6.3, 2.7, 4.9, 1.8],\n",
              "        [6.5, 3. , 5.8, 2.2],\n",
              "        [7.1, 3. , 5.9, 2.1],\n",
              "        [4.8, 3.1, 1.6, 0.2],\n",
              "        [5.7, 3.8, 1.7, 0.3],\n",
              "        [5.1, 3.7, 1.5, 0.4],\n",
              "        [5.9, 3. , 4.2, 1.5],\n",
              "        [7.2, 3.6, 6.1, 2.5],\n",
              "        [5.4, 3.9, 1.3, 0.4],\n",
              "        [4.8, 3.4, 1.9, 0.2],\n",
              "        [7.2, 3. , 5.8, 1.6],\n",
              "        [7. , 3.2, 4.7, 1.4],\n",
              "        [6.3, 3.4, 5.6, 2.4],\n",
              "        [6.5, 2.8, 4.6, 1.5],\n",
              "        [5.8, 2.7, 3.9, 1.2],\n",
              "        [6.7, 3.1, 4.4, 1.4],\n",
              "        [5.7, 4.4, 1.5, 0.4],\n",
              "        [5.5, 2.3, 4. , 1.3],\n",
              "        [6. , 3.4, 4.5, 1.6],\n",
              "        [5.6, 2.9, 3.6, 1.3],\n",
              "        [5.2, 3.5, 1.5, 0.2],\n",
              "        [5.6, 2.5, 3.9, 1.1],\n",
              "        [5.6, 2.7, 4.2, 1.3],\n",
              "        [4.6, 3.1, 1.5, 0.2],\n",
              "        [5.5, 4.2, 1.4, 0.2],\n",
              "        [5.8, 2.6, 4. , 1.2],\n",
              "        [5.7, 2.8, 4.1, 1.3],\n",
              "        [5. , 3.4, 1.6, 0.4],\n",
              "        [4.6, 3.2, 1.4, 0.2],\n",
              "        [5.1, 3.8, 1.6, 0.2],\n",
              "        [6.3, 2.3, 4.4, 1.3],\n",
              "        [6. , 2.7, 5.1, 1.6],\n",
              "        [6.4, 2.9, 4.3, 1.3],\n",
              "        [6.7, 3.3, 5.7, 2.1],\n",
              "        [5.9, 3.2, 4.8, 1.8],\n",
              "        [5.8, 2.7, 4.1, 1. ],\n",
              "        [5.7, 2.8, 4.5, 1.3],\n",
              "        [6.1, 2.8, 4. , 1.3],\n",
              "        [6.1, 3. , 4.6, 1.4],\n",
              "        [6.8, 2.8, 4.8, 1.4]]),\n",
              " array([0., 0., 2., 0., 1., 0., 1., 0., 2., 2., 1., 2., 1., 0., 1., 2., 2.,\n",
              "        0., 0., 2., 1., 0., 1., 2., 0., 0., 0., 2., 0., 2., 2., 0., 2., 1.,\n",
              "        2., 2., 1., 2., 1., 2., 1., 0., 0., 2., 0., 2., 0., 1., 0., 0., 0.,\n",
              "        2., 1., 2., 2., 1., 2., 1., 2., 1., 2., 2., 2., 0., 0., 0., 1., 2.,\n",
              "        0., 0., 2., 1., 2., 1., 1., 1., 0., 1., 1., 1., 0., 1., 1., 0., 0.,\n",
              "        1., 1., 0., 0., 0., 1., 1., 1., 2., 1., 1., 1., 1., 1., 1.]),\n",
              " array([[4.7, 3.2, 1.3, 0.2],\n",
              "        [5.4, 3.9, 1.7, 0.4],\n",
              "        [5. , 3.4, 1.5, 0.2],\n",
              "        [4.9, 3.1, 1.5, 0.1],\n",
              "        [4.3, 3. , 1.1, 0.1],\n",
              "        [5.8, 4. , 1.2, 0.2],\n",
              "        [5.1, 3.5, 1.4, 0.3],\n",
              "        [5.1, 3.3, 1.7, 0.5],\n",
              "        [5. , 3. , 1.6, 0.2],\n",
              "        [5.2, 3.4, 1.4, 0.2],\n",
              "        [4.9, 3.6, 1.4, 0.1],\n",
              "        [4.4, 3. , 1.3, 0.2],\n",
              "        [4.5, 2.3, 1.3, 0.3],\n",
              "        [4.4, 3.2, 1.3, 0.2],\n",
              "        [5. , 3.5, 1.6, 0.6],\n",
              "        [4.8, 3. , 1.4, 0.3],\n",
              "        [5.3, 3.7, 1.5, 0.2],\n",
              "        [6.6, 2.9, 4.6, 1.3],\n",
              "        [5. , 2. , 3.5, 1. ],\n",
              "        [6. , 2.2, 4. , 1. ],\n",
              "        [5.6, 3. , 4.5, 1.5],\n",
              "        [6.2, 2.2, 4.5, 1.5],\n",
              "        [6.3, 2.5, 4.9, 1.5],\n",
              "        [6.1, 2.8, 4.7, 1.2],\n",
              "        [5.5, 2.4, 3.8, 1.1],\n",
              "        [5.5, 2.4, 3.7, 1. ],\n",
              "        [5.4, 3. , 4.5, 1.5],\n",
              "        [5.5, 2.5, 4. , 1.3],\n",
              "        [5.5, 2.6, 4.4, 1.2],\n",
              "        [5.7, 3. , 4.2, 1.2],\n",
              "        [5.8, 2.7, 5.1, 1.9],\n",
              "        [6.3, 2.9, 5.6, 1.8],\n",
              "        [7.6, 3. , 6.6, 2.1],\n",
              "        [4.9, 2.5, 4.5, 1.7],\n",
              "        [6.5, 3.2, 5.1, 2. ],\n",
              "        [6.4, 2.7, 5.3, 1.9],\n",
              "        [6.8, 3. , 5.5, 2.1],\n",
              "        [5.7, 2.5, 5. , 2. ],\n",
              "        [7.7, 2.6, 6.9, 2.3],\n",
              "        [7.7, 2.8, 6.7, 2. ],\n",
              "        [7.2, 3.2, 6. , 1.8],\n",
              "        [6.2, 2.8, 4.8, 1.8],\n",
              "        [6.1, 3. , 4.9, 1.8],\n",
              "        [6.3, 2.8, 5.1, 1.5],\n",
              "        [6.1, 2.6, 5.6, 1.4],\n",
              "        [7.7, 3. , 6.1, 2.3],\n",
              "        [6.4, 3.1, 5.5, 1.8],\n",
              "        [6. , 3. , 4.8, 1.8],\n",
              "        [6.9, 3.1, 5.4, 2.1],\n",
              "        [6.2, 3.4, 5.4, 2.3]]),\n",
              " array([0, 0, 0, 0, 0, 0, 0, 0, 0, 0, 0, 0, 0, 0, 0, 0, 0, 1, 1, 1, 1, 1,\n",
              "        1, 1, 1, 1, 1, 1, 1, 1, 2, 2, 2, 2, 2, 2, 2, 2, 2, 2, 2, 2, 2, 2,\n",
              "        2, 2, 2, 2, 2, 2])]"
            ]
          },
          "metadata": {},
          "execution_count": 8
        }
      ]
    },
    {
      "cell_type": "markdown",
      "source": [
        "**Question b**"
      ],
      "metadata": {
        "id": "SnP3wD6Rm_w9"
      }
    },
    {
      "cell_type": "code",
      "source": [
        "def test(S , clf):\n",
        "    # S :  [dataS1 , targetS1 , dataS2 , targetS2]\n",
        "    clf.fit(S[0],S[1])\n",
        "    clf.predict(S[2])\n",
        "    clf.score(S[2],S[3])\n",
        "    return 1 - clf.score(S[2],S[3])"
      ],
      "metadata": {
        "id": "jXH7Z20mnDET"
      },
      "execution_count": 9,
      "outputs": []
    },
    {
      "cell_type": "code",
      "source": [
        "# S : irisdata \n",
        "# clf = naive bayes\n",
        "from sklearn import naive_bayes\n",
        "from sklearn.tree import DecisionTreeClassifier\n",
        "clf = naive_bayes.MultinomialNB(fit_prior=True)\n",
        "#clf = DecisionTreeClassifier(random_state=0)\n",
        "Ss = split(irisData)\n",
        "error  = test(Ss , clf)\n",
        "print(error)"
      ],
      "metadata": {
        "colab": {
          "base_uri": "https://localhost:8080/"
        },
        "id": "XONx1AAxnFTx",
        "outputId": "8ee2286a-3770-4c12-9328-a210e61bc06a"
      },
      "execution_count": 10,
      "outputs": [
        {
          "output_type": "stream",
          "name": "stdout",
          "text": [
            "50\n",
            "0.16000000000000003\n"
          ]
        }
      ]
    },
    {
      "cell_type": "markdown",
      "source": [
        "**Question c**"
      ],
      "metadata": {
        "id": "Nnl6vHZSnJTa"
      }
    },
    {
      "cell_type": "code",
      "source": [
        "def test_with_iterations(S , clf ,t):\n",
        "    moy_err = 0 \n",
        "    for i in range(t):\n",
        "        e = test(S , clf)\n",
        "        moy_err = moy_err+e\n",
        "    return moy_err/t"
      ],
      "metadata": {
        "id": "YzBcnRLynMZT"
      },
      "execution_count": 11,
      "outputs": []
    },
    {
      "cell_type": "code",
      "source": [
        "for i in range(20):\n",
        "    print(\"erreur avec t= 10\",test_with_iterations(Ss , clf ,t=10))\n",
        "    print(\"erreur avec t= 50\",test_with_iterations(Ss , clf,t=50))\n",
        "    print(\"erreur avec t= 100\",test_with_iterations(Ss , clf ,t=100))\n",
        "    print(\"erreur avec t= 200\",test_with_iterations(Ss, clf,t=200))\n",
        "    print(\"erreur avec t= 500\",test_with_iterations(Ss , clf,t=500))\n",
        "    print(\"erreur avec t= 1000\",test_with_iterations(Ss , clf ,t=1000))\n",
        "    print(\"\"\"---------------\"\"\")\n",
        "print('''pour chaque t, lorsqu'on repete 20 fois ,l'erreur converge vers une valeur approximative \n",
        "      de 0.2 .En effet plus on augmente t plus l erreur moyenne devient stable car l algorithme apprend mieux''')"
      ],
      "metadata": {
        "colab": {
          "base_uri": "https://localhost:8080/"
        },
        "id": "Z5Nkvr25nQJq",
        "outputId": "d5b232fd-2c9f-4aab-8179-6332f244b664"
      },
      "execution_count": 12,
      "outputs": [
        {
          "output_type": "stream",
          "name": "stdout",
          "text": [
            "erreur avec t= 10 0.16000000000000006\n",
            "erreur avec t= 50 0.16000000000000011\n",
            "erreur avec t= 100 0.16000000000000011\n",
            "erreur avec t= 200 0.16000000000000011\n",
            "erreur avec t= 500 0.159999999999998\n",
            "erreur avec t= 1000 0.1599999999999973\n",
            "---------------\n",
            "erreur avec t= 10 0.16000000000000006\n",
            "erreur avec t= 50 0.16000000000000011\n",
            "erreur avec t= 100 0.16000000000000011\n",
            "erreur avec t= 200 0.16000000000000011\n",
            "erreur avec t= 500 0.159999999999998\n",
            "erreur avec t= 1000 0.1599999999999973\n",
            "---------------\n",
            "erreur avec t= 10 0.16000000000000006\n",
            "erreur avec t= 50 0.16000000000000011\n",
            "erreur avec t= 100 0.16000000000000011\n",
            "erreur avec t= 200 0.16000000000000011\n",
            "erreur avec t= 500 0.159999999999998\n",
            "erreur avec t= 1000 0.1599999999999973\n",
            "---------------\n",
            "erreur avec t= 10 0.16000000000000006\n",
            "erreur avec t= 50 0.16000000000000011\n",
            "erreur avec t= 100 0.16000000000000011\n",
            "erreur avec t= 200 0.16000000000000011\n",
            "erreur avec t= 500 0.159999999999998\n",
            "erreur avec t= 1000 0.1599999999999973\n",
            "---------------\n",
            "erreur avec t= 10 0.16000000000000006\n",
            "erreur avec t= 50 0.16000000000000011\n",
            "erreur avec t= 100 0.16000000000000011\n",
            "erreur avec t= 200 0.16000000000000011\n",
            "erreur avec t= 500 0.159999999999998\n",
            "erreur avec t= 1000 0.1599999999999973\n",
            "---------------\n",
            "erreur avec t= 10 0.16000000000000006\n",
            "erreur avec t= 50 0.16000000000000011\n",
            "erreur avec t= 100 0.16000000000000011\n",
            "erreur avec t= 200 0.16000000000000011\n",
            "erreur avec t= 500 0.159999999999998\n",
            "erreur avec t= 1000 0.1599999999999973\n",
            "---------------\n",
            "erreur avec t= 10 0.16000000000000006\n",
            "erreur avec t= 50 0.16000000000000011\n",
            "erreur avec t= 100 0.16000000000000011\n",
            "erreur avec t= 200 0.16000000000000011\n",
            "erreur avec t= 500 0.159999999999998\n",
            "erreur avec t= 1000 0.1599999999999973\n",
            "---------------\n",
            "erreur avec t= 10 0.16000000000000006\n",
            "erreur avec t= 50 0.16000000000000011\n",
            "erreur avec t= 100 0.16000000000000011\n",
            "erreur avec t= 200 0.16000000000000011\n",
            "erreur avec t= 500 0.159999999999998\n",
            "erreur avec t= 1000 0.1599999999999973\n",
            "---------------\n",
            "erreur avec t= 10 0.16000000000000006\n",
            "erreur avec t= 50 0.16000000000000011\n",
            "erreur avec t= 100 0.16000000000000011\n",
            "erreur avec t= 200 0.16000000000000011\n",
            "erreur avec t= 500 0.159999999999998\n",
            "erreur avec t= 1000 0.1599999999999973\n",
            "---------------\n",
            "erreur avec t= 10 0.16000000000000006\n",
            "erreur avec t= 50 0.16000000000000011\n",
            "erreur avec t= 100 0.16000000000000011\n",
            "erreur avec t= 200 0.16000000000000011\n",
            "erreur avec t= 500 0.159999999999998\n",
            "erreur avec t= 1000 0.1599999999999973\n",
            "---------------\n",
            "erreur avec t= 10 0.16000000000000006\n",
            "erreur avec t= 50 0.16000000000000011\n",
            "erreur avec t= 100 0.16000000000000011\n",
            "erreur avec t= 200 0.16000000000000011\n",
            "erreur avec t= 500 0.159999999999998\n",
            "erreur avec t= 1000 0.1599999999999973\n",
            "---------------\n",
            "erreur avec t= 10 0.16000000000000006\n",
            "erreur avec t= 50 0.16000000000000011\n",
            "erreur avec t= 100 0.16000000000000011\n",
            "erreur avec t= 200 0.16000000000000011\n",
            "erreur avec t= 500 0.159999999999998\n",
            "erreur avec t= 1000 0.1599999999999973\n",
            "---------------\n",
            "erreur avec t= 10 0.16000000000000006\n",
            "erreur avec t= 50 0.16000000000000011\n",
            "erreur avec t= 100 0.16000000000000011\n",
            "erreur avec t= 200 0.16000000000000011\n",
            "erreur avec t= 500 0.159999999999998\n",
            "erreur avec t= 1000 0.1599999999999973\n",
            "---------------\n",
            "erreur avec t= 10 0.16000000000000006\n",
            "erreur avec t= 50 0.16000000000000011\n",
            "erreur avec t= 100 0.16000000000000011\n",
            "erreur avec t= 200 0.16000000000000011\n",
            "erreur avec t= 500 0.159999999999998\n",
            "erreur avec t= 1000 0.1599999999999973\n",
            "---------------\n",
            "erreur avec t= 10 0.16000000000000006\n",
            "erreur avec t= 50 0.16000000000000011\n",
            "erreur avec t= 100 0.16000000000000011\n",
            "erreur avec t= 200 0.16000000000000011\n",
            "erreur avec t= 500 0.159999999999998\n",
            "erreur avec t= 1000 0.1599999999999973\n",
            "---------------\n",
            "erreur avec t= 10 0.16000000000000006\n",
            "erreur avec t= 50 0.16000000000000011\n",
            "erreur avec t= 100 0.16000000000000011\n",
            "erreur avec t= 200 0.16000000000000011\n",
            "erreur avec t= 500 0.159999999999998\n",
            "erreur avec t= 1000 0.1599999999999973\n",
            "---------------\n",
            "erreur avec t= 10 0.16000000000000006\n",
            "erreur avec t= 50 0.16000000000000011\n",
            "erreur avec t= 100 0.16000000000000011\n",
            "erreur avec t= 200 0.16000000000000011\n",
            "erreur avec t= 500 0.159999999999998\n",
            "erreur avec t= 1000 0.1599999999999973\n",
            "---------------\n",
            "erreur avec t= 10 0.16000000000000006\n",
            "erreur avec t= 50 0.16000000000000011\n",
            "erreur avec t= 100 0.16000000000000011\n",
            "erreur avec t= 200 0.16000000000000011\n",
            "erreur avec t= 500 0.159999999999998\n",
            "erreur avec t= 1000 0.1599999999999973\n",
            "---------------\n",
            "erreur avec t= 10 0.16000000000000006\n",
            "erreur avec t= 50 0.16000000000000011\n",
            "erreur avec t= 100 0.16000000000000011\n",
            "erreur avec t= 200 0.16000000000000011\n",
            "erreur avec t= 500 0.159999999999998\n",
            "erreur avec t= 1000 0.1599999999999973\n",
            "---------------\n",
            "erreur avec t= 10 0.16000000000000006\n",
            "erreur avec t= 50 0.16000000000000011\n",
            "erreur avec t= 100 0.16000000000000011\n",
            "erreur avec t= 200 0.16000000000000011\n",
            "erreur avec t= 500 0.159999999999998\n",
            "erreur avec t= 1000 0.1599999999999973\n",
            "---------------\n",
            "pour chaque t, lorsqu'on repete 20 fois ,l'erreur converge vers une valeur approximative \n",
            "      de 0.2 .En effet plus on augmente t plus l erreur moyenne devient stable car l algorithme apprend mieux\n"
          ]
        }
      ]
    },
    {
      "cell_type": "markdown",
      "source": [
        "**Question d**"
      ],
      "metadata": {
        "id": "Td-t2PIGnoVL"
      }
    },
    {
      "cell_type": "code",
      "source": [
        "# version 2 du split \n",
        "def split_v2(S):\n",
        "    dataS1 = np.empty(shape=(135,4))\n",
        "    targetS1= np.empty(shape=(135))\n",
        "    dataS2 = S.data\n",
        "    targetS2 = S.target\n",
        "    # La taille est 0.9 S\n",
        "    size= int(0.9*len(S.data))\n",
        "    for i in range(0,size):\n",
        "        j = rd.randint(0,len(dataS2)-1)\n",
        "        dataS1[i] = dataS2[j]\n",
        "        targetS1[i] = targetS2[j]\n",
        "        dataS2 = np.delete(dataS2 , j,0)\n",
        "        targetS2 = np.delete(targetS2,j,0)\n",
        "        \n",
        "    return [dataS1 , targetS1 , dataS2 , targetS2]"
      ],
      "metadata": {
        "id": "hRwj-nlIn4Gg"
      },
      "execution_count": 13,
      "outputs": []
    },
    {
      "cell_type": "code",
      "source": [
        "Ss_v2 = split_v2(irisData)\n",
        "for i in range(20):\n",
        "    print(\"erreur avec t= 10\",test_with_iterations(Ss_v2 , clf ,t=10))\n",
        "    print(\"erreur avec t= 50\",test_with_iterations(Ss_v2 , clf,t=50))\n",
        "    print(\"erreur avec t= 100\",test_with_iterations(Ss_v2 , clf ,t=100))\n",
        "    print(\"erreur avec t= 200\",test_with_iterations(Ss_v2, clf,t=200))\n",
        "    print(\"erreur avec t= 500\",test_with_iterations(Ss_v2 , clf,t=500))\n",
        "    print(\"erreur avec t= 1000\",test_with_iterations(Ss_v2 , clf ,t=1000))\n",
        "    print(\"\"\"---------------\"\"\")"
      ],
      "metadata": {
        "colab": {
          "base_uri": "https://localhost:8080/"
        },
        "id": "G78EppqYn51I",
        "outputId": "661f227f-1a6c-4ee6-b0c1-14408ef97c0d"
      },
      "execution_count": 14,
      "outputs": [
        {
          "output_type": "stream",
          "name": "stdout",
          "text": [
            "erreur avec t= 10 0.0\n",
            "erreur avec t= 50 0.0\n",
            "erreur avec t= 100 0.0\n",
            "erreur avec t= 200 0.0\n",
            "erreur avec t= 500 0.0\n",
            "erreur avec t= 1000 0.0\n",
            "---------------\n",
            "erreur avec t= 10 0.0\n",
            "erreur avec t= 50 0.0\n",
            "erreur avec t= 100 0.0\n",
            "erreur avec t= 200 0.0\n",
            "erreur avec t= 500 0.0\n",
            "erreur avec t= 1000 0.0\n",
            "---------------\n",
            "erreur avec t= 10 0.0\n",
            "erreur avec t= 50 0.0\n",
            "erreur avec t= 100 0.0\n",
            "erreur avec t= 200 0.0\n",
            "erreur avec t= 500 0.0\n",
            "erreur avec t= 1000 0.0\n",
            "---------------\n",
            "erreur avec t= 10 0.0\n",
            "erreur avec t= 50 0.0\n",
            "erreur avec t= 100 0.0\n",
            "erreur avec t= 200 0.0\n",
            "erreur avec t= 500 0.0\n",
            "erreur avec t= 1000 0.0\n",
            "---------------\n",
            "erreur avec t= 10 0.0\n",
            "erreur avec t= 50 0.0\n",
            "erreur avec t= 100 0.0\n",
            "erreur avec t= 200 0.0\n",
            "erreur avec t= 500 0.0\n",
            "erreur avec t= 1000 0.0\n",
            "---------------\n",
            "erreur avec t= 10 0.0\n",
            "erreur avec t= 50 0.0\n",
            "erreur avec t= 100 0.0\n",
            "erreur avec t= 200 0.0\n",
            "erreur avec t= 500 0.0\n",
            "erreur avec t= 1000 0.0\n",
            "---------------\n",
            "erreur avec t= 10 0.0\n",
            "erreur avec t= 50 0.0\n",
            "erreur avec t= 100 0.0\n",
            "erreur avec t= 200 0.0\n",
            "erreur avec t= 500 0.0\n",
            "erreur avec t= 1000 0.0\n",
            "---------------\n",
            "erreur avec t= 10 0.0\n",
            "erreur avec t= 50 0.0\n",
            "erreur avec t= 100 0.0\n",
            "erreur avec t= 200 0.0\n",
            "erreur avec t= 500 0.0\n",
            "erreur avec t= 1000 0.0\n",
            "---------------\n",
            "erreur avec t= 10 0.0\n",
            "erreur avec t= 50 0.0\n",
            "erreur avec t= 100 0.0\n",
            "erreur avec t= 200 0.0\n",
            "erreur avec t= 500 0.0\n",
            "erreur avec t= 1000 0.0\n",
            "---------------\n",
            "erreur avec t= 10 0.0\n",
            "erreur avec t= 50 0.0\n",
            "erreur avec t= 100 0.0\n",
            "erreur avec t= 200 0.0\n",
            "erreur avec t= 500 0.0\n",
            "erreur avec t= 1000 0.0\n",
            "---------------\n",
            "erreur avec t= 10 0.0\n",
            "erreur avec t= 50 0.0\n",
            "erreur avec t= 100 0.0\n",
            "erreur avec t= 200 0.0\n",
            "erreur avec t= 500 0.0\n",
            "erreur avec t= 1000 0.0\n",
            "---------------\n",
            "erreur avec t= 10 0.0\n",
            "erreur avec t= 50 0.0\n",
            "erreur avec t= 100 0.0\n",
            "erreur avec t= 200 0.0\n",
            "erreur avec t= 500 0.0\n",
            "erreur avec t= 1000 0.0\n",
            "---------------\n",
            "erreur avec t= 10 0.0\n",
            "erreur avec t= 50 0.0\n",
            "erreur avec t= 100 0.0\n",
            "erreur avec t= 200 0.0\n",
            "erreur avec t= 500 0.0\n",
            "erreur avec t= 1000 0.0\n",
            "---------------\n",
            "erreur avec t= 10 0.0\n",
            "erreur avec t= 50 0.0\n",
            "erreur avec t= 100 0.0\n",
            "erreur avec t= 200 0.0\n",
            "erreur avec t= 500 0.0\n",
            "erreur avec t= 1000 0.0\n",
            "---------------\n",
            "erreur avec t= 10 0.0\n",
            "erreur avec t= 50 0.0\n",
            "erreur avec t= 100 0.0\n",
            "erreur avec t= 200 0.0\n",
            "erreur avec t= 500 0.0\n",
            "erreur avec t= 1000 0.0\n",
            "---------------\n",
            "erreur avec t= 10 0.0\n",
            "erreur avec t= 50 0.0\n",
            "erreur avec t= 100 0.0\n",
            "erreur avec t= 200 0.0\n",
            "erreur avec t= 500 0.0\n",
            "erreur avec t= 1000 0.0\n",
            "---------------\n",
            "erreur avec t= 10 0.0\n",
            "erreur avec t= 50 0.0\n",
            "erreur avec t= 100 0.0\n",
            "erreur avec t= 200 0.0\n",
            "erreur avec t= 500 0.0\n",
            "erreur avec t= 1000 0.0\n",
            "---------------\n",
            "erreur avec t= 10 0.0\n",
            "erreur avec t= 50 0.0\n",
            "erreur avec t= 100 0.0\n",
            "erreur avec t= 200 0.0\n",
            "erreur avec t= 500 0.0\n",
            "erreur avec t= 1000 0.0\n",
            "---------------\n",
            "erreur avec t= 10 0.0\n",
            "erreur avec t= 50 0.0\n",
            "erreur avec t= 100 0.0\n",
            "erreur avec t= 200 0.0\n",
            "erreur avec t= 500 0.0\n",
            "erreur avec t= 1000 0.0\n",
            "---------------\n",
            "erreur avec t= 10 0.0\n",
            "erreur avec t= 50 0.0\n",
            "erreur avec t= 100 0.0\n",
            "erreur avec t= 200 0.0\n",
            "erreur avec t= 500 0.0\n",
            "erreur avec t= 1000 0.0\n",
            "---------------\n"
          ]
        }
      ]
    },
    {
      "cell_type": "markdown",
      "source": [
        "L'erreur estimée n'est pas la meme dans le cas d'un echantillon de test qui ne prend que 10%"
      ],
      "metadata": {
        "id": "5RaMfbJooHz6"
      }
    },
    {
      "cell_type": "markdown",
      "source": [
        "**Question e et f**"
      ],
      "metadata": {
        "id": "KzcS9aNfoJ25"
      }
    },
    {
      "cell_type": "code",
      "source": [
        "from sklearn.model_selection import train_test_split \n",
        "sizes = [0.1,0.2,0.25,0.33,0.5]\n",
        "for i in sizes:\n",
        "    D_train , D_test ,C_train, C_test = train_test_split(irisData.data, irisData.target, train_size=i)\n",
        "    clf.fit(D_train , C_train)\n",
        "    prediction = clf.predict(D_test)\n",
        "    print('pour le test size :' + str(i))\n",
        "    print('Lerreur est: '+ str(1- clf.score(np.array(D_test), np.array(C_test))))"
      ],
      "metadata": {
        "colab": {
          "base_uri": "https://localhost:8080/"
        },
        "id": "KuUMbqnaoP1r",
        "outputId": "928da8ef-4b39-40ea-a5ff-0116c1ae5f98"
      },
      "execution_count": 15,
      "outputs": [
        {
          "output_type": "stream",
          "name": "stdout",
          "text": [
            "pour le test size :0.1\n",
            "Lerreur est: 0.059259259259259234\n",
            "pour le test size :0.2\n",
            "Lerreur est: 0.19999999999999996\n",
            "pour le test size :0.25\n",
            "Lerreur est: 0.37168141592920356\n",
            "pour le test size :0.33\n",
            "Lerreur est: 0.3465346534653465\n",
            "pour le test size :0.5\n",
            "Lerreur est: 0.19999999999999996\n"
          ]
        }
      ]
    },
    {
      "cell_type": "markdown",
      "source": [
        "**2.2 Estimer l'erreur réelle par validation croisée**"
      ],
      "metadata": {
        "id": "QPglUIqsoVxi"
      }
    },
    {
      "cell_type": "code",
      "source": [
        "print('Using cross validation')\n",
        "from sklearn.model_selection import cross_val_score\n",
        "folds = [2,3,5,8]\n",
        "for i in folds:\n",
        "    print(f\"pour {i} folds\")\n",
        "    print(cross_val_score(clf,irisData.data,irisData.target,cv=i))"
      ],
      "metadata": {
        "colab": {
          "base_uri": "https://localhost:8080/"
        },
        "id": "5D1zAqMyoZHR",
        "outputId": "d6d1cee5-58c8-4847-f314-4901f9500817"
      },
      "execution_count": 16,
      "outputs": [
        {
          "output_type": "stream",
          "name": "stdout",
          "text": [
            "Using cross validation\n",
            "pour 2 folds\n",
            "[0.96       0.94666667]\n",
            "pour 3 folds\n",
            "[0.96 0.92 0.96]\n",
            "pour 5 folds\n",
            "[1.         0.96666667 0.9        0.9        1.        ]\n",
            "pour 8 folds\n",
            "[1.         1.         0.94736842 0.89473684 0.89473684 0.84210526\n",
            " 1.         1.        ]\n"
          ]
        }
      ]
    }
  ]
}