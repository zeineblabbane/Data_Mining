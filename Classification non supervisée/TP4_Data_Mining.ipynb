{
  "nbformat": 4,
  "nbformat_minor": 0,
  "metadata": {
    "colab": {
      "name": "TP4 Data_Mining",
      "provenance": []
    },
    "kernelspec": {
      "name": "python3",
      "display_name": "Python 3"
    },
    "language_info": {
      "name": "python"
    }
  },
  "cells": [
    {
      "cell_type": "code",
      "execution_count": 14,
      "metadata": {
        "id": "J4o_kdBz8Beq"
      },
      "outputs": [],
      "source": [
        "import pandas as pd\n",
        "import pandas as pd\n",
        "import numpy as np\n",
        "from sklearn import cluster\n",
        "from sklearn import metrics\n",
        "import matplotlib.pyplot as plt\n",
        "from scipy.cluster.hierarchy import dendrogram, linkage, fcluster\n",
        "from sklearn.decomposition import PCA\n",
        "from sklearn.cluster import AgglomerativeClustering"
      ]
    },
    {
      "cell_type": "markdown",
      "source": [
        "#**Partie 1 : Données de travail**"
      ],
      "metadata": {
        "id": "0ZKbM6cECD59"
      }
    },
    {
      "cell_type": "code",
      "source": [
        "fromage=pd.read_table(r\"fromage1.txt\",sep=\"\\t\",header=0,index_col=0)\n",
        "print(fromage.describe())"
      ],
      "metadata": {
        "colab": {
          "base_uri": "https://localhost:8080/"
        },
        "id": "buaCif30Bi_C",
        "outputId": "272ccff5-ef60-442d-edc6-6b96a8bd3b40"
      },
      "execution_count": 15,
      "outputs": [
        {
          "output_type": "stream",
          "name": "stdout",
          "text": [
            "         calories      sodium     calcium    lipides     retinol    folates  \\\n",
            "count   29.000000   29.000000   29.000000  29.000000   29.000000  29.000000   \n",
            "mean   300.034483  210.086207  185.734483  24.158621   67.562069  13.010345   \n",
            "std     91.914356  108.678923   72.528882   8.129642   24.163098  11.723339   \n",
            "min     70.000000   22.000000   72.600000   3.400000   37.100000   1.200000   \n",
            "25%    292.000000  140.000000  132.900000  23.400000   51.600000   4.900000   \n",
            "50%    321.000000  223.000000  202.300000  26.300000   62.300000   6.400000   \n",
            "75%    355.000000  276.000000  220.500000  29.100000   76.400000  21.100000   \n",
            "max    406.000000  432.000000  334.600000  33.300000  150.500000  36.400000   \n",
            "\n",
            "       proteines  cholesterol  magnesium  \n",
            "count  29.000000    29.000000  29.000000  \n",
            "mean   20.168966    74.586207  26.965517  \n",
            "std     6.959788    28.245755  11.318388  \n",
            "min     4.100000    10.000000  10.000000  \n",
            "25%    17.800000    70.000000  20.000000  \n",
            "50%    21.000000    80.000000  26.000000  \n",
            "75%    23.400000    90.000000  30.000000  \n",
            "max    35.700000   120.000000  51.000000  \n"
          ]
        }
      ]
    },
    {
      "cell_type": "markdown",
      "source": [
        "Comment sont réparties \n",
        "les données? Quels sont les attributs de ce jeu de données"
      ],
      "metadata": {
        "id": "ePWnFBrM_rz1"
      }
    },
    {
      "cell_type": "code",
      "source": [
        "print(fromage.shape)"
      ],
      "metadata": {
        "colab": {
          "base_uri": "https://localhost:8080/"
        },
        "id": "PdzEU4pOBX36",
        "outputId": "01d1b644-3c87-4e89-e28d-678e6b2b5d5f"
      },
      "execution_count": 16,
      "outputs": [
        {
          "output_type": "stream",
          "name": "stdout",
          "text": [
            "(29, 9)\n"
          ]
        }
      ]
    },
    {
      "cell_type": "code",
      "source": [
        "fromage.head()"
      ],
      "metadata": {
        "colab": {
          "base_uri": "https://localhost:8080/",
          "height": 238
        },
        "id": "JKPP0gMp-i7i",
        "outputId": "7417d2ae-3a9c-4fa7-eaa3-4affa70852d5"
      },
      "execution_count": 17,
      "outputs": [
        {
          "output_type": "execute_result",
          "data": {
            "text/plain": [
              "             calories  sodium  calcium  lipides  retinol  folates  proteines  \\\n",
              "Fromages                                                                       \n",
              "CarredelEst       314   353.5     72.6     26.3     51.6     30.3       21.0   \n",
              "Babybel           314   238.0    209.8     25.1     63.7      6.4       22.6   \n",
              "Beaufort          401   112.0    259.4     33.3     54.9      1.2       26.6   \n",
              "Bleu              342   336.0    211.1     28.9     37.1     27.5       20.2   \n",
              "Camembert         264   314.0    215.9     19.5    103.0     36.4       23.4   \n",
              "\n",
              "             cholesterol  magnesium  \n",
              "Fromages                             \n",
              "CarredelEst           70         20  \n",
              "Babybel               70         27  \n",
              "Beaufort             120         41  \n",
              "Bleu                  90         27  \n",
              "Camembert             60         20  "
            ],
            "text/html": [
              "\n",
              "  <div id=\"df-be782981-a4c0-45a8-a7c8-e26e8a8062e1\">\n",
              "    <div class=\"colab-df-container\">\n",
              "      <div>\n",
              "<style scoped>\n",
              "    .dataframe tbody tr th:only-of-type {\n",
              "        vertical-align: middle;\n",
              "    }\n",
              "\n",
              "    .dataframe tbody tr th {\n",
              "        vertical-align: top;\n",
              "    }\n",
              "\n",
              "    .dataframe thead th {\n",
              "        text-align: right;\n",
              "    }\n",
              "</style>\n",
              "<table border=\"1\" class=\"dataframe\">\n",
              "  <thead>\n",
              "    <tr style=\"text-align: right;\">\n",
              "      <th></th>\n",
              "      <th>calories</th>\n",
              "      <th>sodium</th>\n",
              "      <th>calcium</th>\n",
              "      <th>lipides</th>\n",
              "      <th>retinol</th>\n",
              "      <th>folates</th>\n",
              "      <th>proteines</th>\n",
              "      <th>cholesterol</th>\n",
              "      <th>magnesium</th>\n",
              "    </tr>\n",
              "    <tr>\n",
              "      <th>Fromages</th>\n",
              "      <th></th>\n",
              "      <th></th>\n",
              "      <th></th>\n",
              "      <th></th>\n",
              "      <th></th>\n",
              "      <th></th>\n",
              "      <th></th>\n",
              "      <th></th>\n",
              "      <th></th>\n",
              "    </tr>\n",
              "  </thead>\n",
              "  <tbody>\n",
              "    <tr>\n",
              "      <th>CarredelEst</th>\n",
              "      <td>314</td>\n",
              "      <td>353.5</td>\n",
              "      <td>72.6</td>\n",
              "      <td>26.3</td>\n",
              "      <td>51.6</td>\n",
              "      <td>30.3</td>\n",
              "      <td>21.0</td>\n",
              "      <td>70</td>\n",
              "      <td>20</td>\n",
              "    </tr>\n",
              "    <tr>\n",
              "      <th>Babybel</th>\n",
              "      <td>314</td>\n",
              "      <td>238.0</td>\n",
              "      <td>209.8</td>\n",
              "      <td>25.1</td>\n",
              "      <td>63.7</td>\n",
              "      <td>6.4</td>\n",
              "      <td>22.6</td>\n",
              "      <td>70</td>\n",
              "      <td>27</td>\n",
              "    </tr>\n",
              "    <tr>\n",
              "      <th>Beaufort</th>\n",
              "      <td>401</td>\n",
              "      <td>112.0</td>\n",
              "      <td>259.4</td>\n",
              "      <td>33.3</td>\n",
              "      <td>54.9</td>\n",
              "      <td>1.2</td>\n",
              "      <td>26.6</td>\n",
              "      <td>120</td>\n",
              "      <td>41</td>\n",
              "    </tr>\n",
              "    <tr>\n",
              "      <th>Bleu</th>\n",
              "      <td>342</td>\n",
              "      <td>336.0</td>\n",
              "      <td>211.1</td>\n",
              "      <td>28.9</td>\n",
              "      <td>37.1</td>\n",
              "      <td>27.5</td>\n",
              "      <td>20.2</td>\n",
              "      <td>90</td>\n",
              "      <td>27</td>\n",
              "    </tr>\n",
              "    <tr>\n",
              "      <th>Camembert</th>\n",
              "      <td>264</td>\n",
              "      <td>314.0</td>\n",
              "      <td>215.9</td>\n",
              "      <td>19.5</td>\n",
              "      <td>103.0</td>\n",
              "      <td>36.4</td>\n",
              "      <td>23.4</td>\n",
              "      <td>60</td>\n",
              "      <td>20</td>\n",
              "    </tr>\n",
              "  </tbody>\n",
              "</table>\n",
              "</div>\n",
              "      <button class=\"colab-df-convert\" onclick=\"convertToInteractive('df-be782981-a4c0-45a8-a7c8-e26e8a8062e1')\"\n",
              "              title=\"Convert this dataframe to an interactive table.\"\n",
              "              style=\"display:none;\">\n",
              "        \n",
              "  <svg xmlns=\"http://www.w3.org/2000/svg\" height=\"24px\"viewBox=\"0 0 24 24\"\n",
              "       width=\"24px\">\n",
              "    <path d=\"M0 0h24v24H0V0z\" fill=\"none\"/>\n",
              "    <path d=\"M18.56 5.44l.94 2.06.94-2.06 2.06-.94-2.06-.94-.94-2.06-.94 2.06-2.06.94zm-11 1L8.5 8.5l.94-2.06 2.06-.94-2.06-.94L8.5 2.5l-.94 2.06-2.06.94zm10 10l.94 2.06.94-2.06 2.06-.94-2.06-.94-.94-2.06-.94 2.06-2.06.94z\"/><path d=\"M17.41 7.96l-1.37-1.37c-.4-.4-.92-.59-1.43-.59-.52 0-1.04.2-1.43.59L10.3 9.45l-7.72 7.72c-.78.78-.78 2.05 0 2.83L4 21.41c.39.39.9.59 1.41.59.51 0 1.02-.2 1.41-.59l7.78-7.78 2.81-2.81c.8-.78.8-2.07 0-2.86zM5.41 20L4 18.59l7.72-7.72 1.47 1.35L5.41 20z\"/>\n",
              "  </svg>\n",
              "      </button>\n",
              "      \n",
              "  <style>\n",
              "    .colab-df-container {\n",
              "      display:flex;\n",
              "      flex-wrap:wrap;\n",
              "      gap: 12px;\n",
              "    }\n",
              "\n",
              "    .colab-df-convert {\n",
              "      background-color: #E8F0FE;\n",
              "      border: none;\n",
              "      border-radius: 50%;\n",
              "      cursor: pointer;\n",
              "      display: none;\n",
              "      fill: #1967D2;\n",
              "      height: 32px;\n",
              "      padding: 0 0 0 0;\n",
              "      width: 32px;\n",
              "    }\n",
              "\n",
              "    .colab-df-convert:hover {\n",
              "      background-color: #E2EBFA;\n",
              "      box-shadow: 0px 1px 2px rgba(60, 64, 67, 0.3), 0px 1px 3px 1px rgba(60, 64, 67, 0.15);\n",
              "      fill: #174EA6;\n",
              "    }\n",
              "\n",
              "    [theme=dark] .colab-df-convert {\n",
              "      background-color: #3B4455;\n",
              "      fill: #D2E3FC;\n",
              "    }\n",
              "\n",
              "    [theme=dark] .colab-df-convert:hover {\n",
              "      background-color: #434B5C;\n",
              "      box-shadow: 0px 1px 3px 1px rgba(0, 0, 0, 0.15);\n",
              "      filter: drop-shadow(0px 1px 2px rgba(0, 0, 0, 0.3));\n",
              "      fill: #FFFFFF;\n",
              "    }\n",
              "  </style>\n",
              "\n",
              "      <script>\n",
              "        const buttonEl =\n",
              "          document.querySelector('#df-be782981-a4c0-45a8-a7c8-e26e8a8062e1 button.colab-df-convert');\n",
              "        buttonEl.style.display =\n",
              "          google.colab.kernel.accessAllowed ? 'block' : 'none';\n",
              "\n",
              "        async function convertToInteractive(key) {\n",
              "          const element = document.querySelector('#df-be782981-a4c0-45a8-a7c8-e26e8a8062e1');\n",
              "          const dataTable =\n",
              "            await google.colab.kernel.invokeFunction('convertToInteractive',\n",
              "                                                     [key], {});\n",
              "          if (!dataTable) return;\n",
              "\n",
              "          const docLinkHtml = 'Like what you see? Visit the ' +\n",
              "            '<a target=\"_blank\" href=https://colab.research.google.com/notebooks/data_table.ipynb>data table notebook</a>'\n",
              "            + ' to learn more about interactive tables.';\n",
              "          element.innerHTML = '';\n",
              "          dataTable['output_type'] = 'display_data';\n",
              "          await google.colab.output.renderOutput(dataTable, element);\n",
              "          const docLink = document.createElement('div');\n",
              "          docLink.innerHTML = docLinkHtml;\n",
              "          element.appendChild(docLink);\n",
              "        }\n",
              "      </script>\n",
              "    </div>\n",
              "  </div>\n",
              "  "
            ]
          },
          "metadata": {},
          "execution_count": 17
        }
      ]
    },
    {
      "cell_type": "markdown",
      "source": [
        "Visualiser la matrice de distribution de données"
      ],
      "metadata": {
        "id": "L3wtFcS4_aiB"
      }
    },
    {
      "cell_type": "code",
      "source": [
        "pd.plotting.scatter_matrix(fromage, figsize=(9,9));"
      ],
      "metadata": {
        "colab": {
          "base_uri": "https://localhost:8080/",
          "height": 558
        },
        "id": "A6D-3a1S-sqn",
        "outputId": "77f46b6e-eede-43e9-fd14-7d601a15144f"
      },
      "execution_count": 18,
      "outputs": [
        {
          "output_type": "display_data",
          "data": {
            "text/plain": [
              "<Figure size 648x648 with 81 Axes>"
            ],
            "image/png": "[encoded data removed]"
          },
          "metadata": {
            "needs_background": "light"
          }
        }
      ]
    },
    {
      "cell_type": "markdown",
      "source": [
        "**On peut discerner, à partir de cette matrice, la corrélation entre plusieurs attributs. En effet, on remarque une corrélation positive entre les calories et: cholesterol, proteines et lipides. On trouve aussi une corrélation positive entre les lipides et le cholesterol, entre les proteines et le magnesium, entre le cholesterol et le magnesium.**"
      ],
      "metadata": {
        "id": "-w5zJ5EoALq1"
      }
    },
    {
      "cell_type": "markdown",
      "source": [
        "#Partie 2: Méthodes des centres mobiles"
      ],
      "metadata": {
        "id": "h0fCrMgeB77a"
      }
    },
    {
      "cell_type": "markdown",
      "source": [
        "K-MEANS ne fournit pas d’outils d’aide à la détection du nombre de classes. Nous devons les programmer sous Python ou utiliser des procédures proposées par des packages dédiés.On fait varier le nombre de groupes et on surveille l’évolution d’un indicateur de qualité de la solution c.-à-d. l’aptitude des instances à être plus proches de ses congénères du même groupe que des individus des autres groupes. Dans ce qui suit, on calcule la métrique « silhouette » pour différents nombres de groupes issus de la méthode des centres mobiles."
      ],
      "metadata": {
        "id": "XDdRO6Qdpvf5"
      }
    },
    {
      "cell_type": "code",
      "source": [
        "np.random.seed(0); #Setting the seed means the next random call is the same\n",
        "kmeans = cluster.KMeans(n_clusters = 4); #créer un modèle pour 4 clusters\n",
        "kmeans.fit(fromage); #définir le modèle de clustering\n",
        "idk = np.argsort(kmeans.labels_)\n",
        "print(pd.DataFrame(fromage.index[idk],kmeans.labels_[idk]))\n",
        "print(kmeans.transform(fromage))"
      ],
      "metadata": {
        "colab": {
          "base_uri": "https://localhost:8080/"
        },
        "id": "WlBF4zz0Dcij",
        "outputId": "523d17e5-362c-4fae-e724-9c1ab00b2884"
      },
      "execution_count": 19,
      "outputs": [
        {
          "output_type": "stream",
          "name": "stdout",
          "text": [
            "             Fromages\n",
            "0         CarredelEst\n",
            "0                Tome\n",
            "0         PontlEveque\n",
            "0           Chabichou\n",
            "0            Chaource\n",
            "0         Coulomniers\n",
            "0  Fr.chevrepatemolle\n",
            "1            Beaufort\n",
            "1         SaintPaulin\n",
            "1             Cheddar\n",
            "1               Comte\n",
            "1                Edam\n",
            "1            Emmental\n",
            "1            Vacherin\n",
            "1            Parmesan\n",
            "2       Petitsuisse40\n",
            "2  Yaourtlaitent.nat.\n",
            "2      Fr.frais20nat.\n",
            "2      Fr.frais40nat.\n",
            "3           Maroilles\n",
            "3             Morbier\n",
            "3              Cantal\n",
            "3           Camembert\n",
            "3            Pyrenees\n",
            "3           Reblochon\n",
            "3          Rocquefort\n",
            "3                Bleu\n",
            "3             Babybel\n",
            "3         Fr.fondu.45\n",
            "[[123.59715669 285.36163076 384.27301005 145.46927992]\n",
            " [110.54651897 118.43379084 303.10311983  71.72681089]\n",
            " [235.25665316  56.72603293 349.91323389 218.1879268 ]\n",
            " [159.09984736 200.30401971 393.76898843  45.60922494]\n",
            " [141.19170858 210.31138298 332.43471728  84.66051854]\n",
            " [180.75982487 111.73150994 371.97076666  86.99931839]\n",
            " [ 72.0404549  182.80599775 298.65300308 170.2611917 ]\n",
            " [ 57.86280572 204.98823213 311.48990553 105.53037193]\n",
            " [156.41570984  92.26223665 348.48685233 159.88151676]\n",
            " [224.31195752  79.32509258 333.83554522 230.88643399]\n",
            " [ 39.94716153 204.4018782  285.29211565 155.61953412]\n",
            " [197.13338124  43.74211715 293.81905359 172.55995306]\n",
            " [289.57992728 102.59674855 343.1669947  273.3780741 ]\n",
            " [144.41931015 265.24828993 195.86579908 252.80069897]\n",
            " [164.74401355 271.72958122 400.47054979 101.45152241]\n",
            " [307.24796873 336.96303256  27.57918146 378.20198492]\n",
            " [286.92623741 330.65941362  48.43507252 376.38946771]\n",
            " [163.69886115 169.20512053 379.74839203  39.80348477]\n",
            " [137.46307556 146.31641334 360.87135     31.87791398]\n",
            " [247.92574637 127.37007228 405.05415842 157.0268493 ]\n",
            " [275.48594208 322.76561591  73.02996816 370.72406639]\n",
            " [ 66.39975258 145.61200264 273.9400961  103.74546448]\n",
            " [103.21034693 118.1602421  327.69454718  85.09362726]\n",
            " [106.4868939  149.56115075 323.02206001  41.96502591]\n",
            " [215.62761551 302.57210349 480.78906108 141.69363218]\n",
            " [163.61948015  93.47945128 289.74900561 120.31124386]\n",
            " [ 44.67517687 176.06769384 309.5039923   98.83002277]\n",
            " [158.9611408   63.47704556 263.14012664 168.16769428]\n",
            " [304.65582689 316.6232269  101.24362326 346.9503587 ]]\n"
          ]
        }
      ]
    },
    {
      "cell_type": "markdown",
      "source": [
        "**Les attributs des centres de chaque cluster.**"
      ],
      "metadata": {
        "id": "g5_cK1RyFarX"
      }
    },
    {
      "cell_type": "code",
      "source": [
        "print(kmeans.cluster_centers_);"
      ],
      "metadata": {
        "colab": {
          "base_uri": "https://localhost:8080/"
        },
        "id": "zn3QyMmgGv9g",
        "outputId": "892c4af0-64d8-4a73-871c-04599034fdfa"
      },
      "execution_count": 20,
      "outputs": [
        {
          "output_type": "stream",
          "name": "stdout",
          "text": [
            "[[297.85714286 239.78571429 103.84285714  24.91428571  83.92857143\n",
            "   23.05714286  18.97142857  71.42857143  21.71428571]\n",
            " [363.875      146.125      257.025       29.05        63.6\n",
            "    3.8625      26.5625      96.25        38.875     ]\n",
            " [101.75        44.75       133.75         6.275       55.15\n",
            "   16.475        7.2         18.25        11.25      ]\n",
            " [329.8        306.6        206.82        26.87        64.24\n",
            "   11.91        21.08        82.          27.4       ]]\n"
          ]
        }
      ]
    },
    {
      "cell_type": "markdown",
      "source": [
        "#Aide à la détection du nombre adéquat de groupes"
      ],
      "metadata": {
        "id": "FvTdS418HC0Y"
      }
    },
    {
      "cell_type": "code",
      "source": [
        "res = np.arange(9,dtype =\"double\")\n",
        "for k in np.arange(9):\n",
        "    km = cluster.KMeans(n_clusters =k+2)\n",
        "    km.fit(fromage)\n",
        "    res[k] = metrics.silhouette_score(fromage,km.labels_)\n",
        "print(res)"
      ],
      "metadata": {
        "colab": {
          "base_uri": "https://localhost:8080/"
        },
        "id": "v4PBoeGJHCBC",
        "outputId": "488bc5b4-fec9-4526-a172-97887135147d"
      },
      "execution_count": 21,
      "outputs": [
        {
          "output_type": "stream",
          "name": "stdout",
          "text": [
            "[0.50681355 0.37299771 0.3282387  0.35737616 0.32267618 0.28114392\n",
            " 0.29450378 0.23904343 0.25006247]\n"
          ]
        }
      ]
    },
    {
      "cell_type": "code",
      "source": [
        "plt.title(\"Metric Silhouette\")\n",
        "plt.xlabel(\"# of clusters\")\n",
        "plt.plot(np.arange(2,11,1),(res))\n",
        "plt.show()\n",
        "#Silhouette mesure l'algorithme de clustering"
      ],
      "metadata": {
        "colab": {
          "base_uri": "https://localhost:8080/",
          "height": 295
        },
        "id": "h9s2PULDHTDz",
        "outputId": "f1719f65-65b7-4c3d-ca65-ab4e2e898cfa"
      },
      "execution_count": 22,
      "outputs": [
        {
          "output_type": "display_data",
          "data": {
            "text/plain": [
              "<Figure size 432x288 with 1 Axes>"
            ],
            "image/png": "[encoded data removed]"
          },
          "metadata": {
            "needs_background": "light"
          }
        }
      ]
    },
    {
      "cell_type": "markdown",
      "source": [
        "**La meilleure valeur de k (nbe de clusters) est celle qui maximise le coefficient de Silhouette. Dans notre cas, il s'agit de la valeur k=2.**"
      ],
      "metadata": {
        "id": "-3Cmiqk4HcZY"
      }
    },
    {
      "cell_type": "markdown",
      "source": [
        "#Partie 3 : Classification ascendante hiérarchique"
      ],
      "metadata": {
        "id": "sHtV41-MIP41"
      }
    },
    {
      "cell_type": "markdown",
      "source": [
        "# **1. Le package SciPy**"
      ],
      "metadata": {
        "id": "TpTt3gOOqDHm"
      }
    },
    {
      "cell_type": "markdown",
      "source": [
        "Afficher le dendrogramme:"
      ],
      "metadata": {
        "id": "ZG2XM-QcLK0w"
      }
    },
    {
      "cell_type": "code",
      "source": [
        "Z = linkage(fromage,method='ward', metric='euclidean')\n",
        "#cah et affichage du dendrogramme\n",
        "plt.title('CAH avec matérialisation des 4 classes')\n",
        "dendrogram(Z,labels=fromage.index,orientation='left',color_threshold=255) #255: bich yabda men niveau 255, ken tkaber les clusters bich yonksou w ken tsagher bich yektharou\n",
        "plt.show()\n",
        "groupes_cah = fcluster(Z, t = 255,criterion='distance') #choisir le niveau 255 => kharej 4 classes\n",
        "print(groupes_cah)"
      ],
      "metadata": {
        "colab": {
          "base_uri": "https://localhost:8080/",
          "height": 298
        },
        "id": "31JVwEKcK8sJ",
        "outputId": "06f95910-21ee-4c07-e839-600524c087c1"
      },
      "execution_count": 23,
      "outputs": [
        {
          "output_type": "display_data",
          "data": {
            "text/plain": [
              "<Figure size 432x288 with 1 Axes>"
            ],
            "image/png": "[encoded data removed]"
          },
          "metadata": {
            "needs_background": "light"
          }
        },
        {
          "output_type": "stream",
          "name": "stdout",
          "text": [
            "[3 4 2 3 3 2 4 4 2 2 4 2 2 4 3 1 1 3 3 2 1 4 4 4 3 2 4 2 1]\n"
          ]
        }
      ]
    },
    {
      "cell_type": "code",
      "source": [
        "#index triés des groupes\n",
        "idg = np.argsort(groupes_cah) \n",
        "#affichage des observations et leurs groupes\n",
        "print(pd.DataFrame(fromage.index[idg],groupes_cah[idg]))"
      ],
      "metadata": {
        "colab": {
          "base_uri": "https://localhost:8080/"
        },
        "id": "a56ZqBy6Lalp",
        "outputId": "cd29c111-09f5-449c-937c-c0c921a75dd9"
      },
      "execution_count": 24,
      "outputs": [
        {
          "output_type": "stream",
          "name": "stdout",
          "text": [
            "             Fromages\n",
            "1  Yaourtlaitent.nat.\n",
            "1       Petitsuisse40\n",
            "1      Fr.frais40nat.\n",
            "1      Fr.frais20nat.\n",
            "2         SaintPaulin\n",
            "2            Beaufort\n",
            "2              Cantal\n",
            "2            Parmesan\n",
            "2             Cheddar\n",
            "2               Comte\n",
            "2                Edam\n",
            "2            Emmental\n",
            "2            Vacherin\n",
            "3          Rocquefort\n",
            "3             Morbier\n",
            "3           Maroilles\n",
            "3         CarredelEst\n",
            "3           Camembert\n",
            "3                Bleu\n",
            "3         Fr.fondu.45\n",
            "4         Coulomniers\n",
            "4            Chaource\n",
            "4           Chabichou\n",
            "4         PontlEveque\n",
            "4            Pyrenees\n",
            "4           Reblochon\n",
            "4             Babybel\n",
            "4                Tome\n",
            "4  Fr.chevrepatemolle\n"
          ]
        }
      ]
    },
    {
      "cell_type": "markdown",
      "source": [
        "On distingue 4 clusters principaux, dont un qui regroupe les fromages frais correctement, mais les autres groupes regroupent des fromages de différents types (à pâte pressée cuite, à pâte pressée non cuite, à pâte molle et croûte lavée ...)."
      ],
      "metadata": {
        "id": "vdDQJSzOLUFr"
      }
    },
    {
      "cell_type": "code",
      "source": [
        "#la correspondance entre les groupes de la CAH et les clusters de Kmeans \n",
        "pd.crosstab(groupes_cah,kmeans.labels_)"
      ],
      "metadata": {
        "colab": {
          "base_uri": "https://localhost:8080/",
          "height": 206
        },
        "id": "amBCOs5bM-EP",
        "outputId": "4add9d43-7f9c-4aaa-eb6d-08740dffd59f"
      },
      "execution_count": 25,
      "outputs": [
        {
          "output_type": "execute_result",
          "data": {
            "text/plain": [
              "col_0  0  1  2  3\n",
              "row_0            \n",
              "1      0  0  4  0\n",
              "2      0  8  0  1\n",
              "3      1  0  0  6\n",
              "4      6  0  0  3"
            ],
            "text/html": [
              "\n",
              "  <div id=\"df-01b1a069-0eaa-4205-9300-3c29cf94351c\">\n",
              "    <div class=\"colab-df-container\">\n",
              "      <div>\n",
              "<style scoped>\n",
              "    .dataframe tbody tr th:only-of-type {\n",
              "        vertical-align: middle;\n",
              "    }\n",
              "\n",
              "    .dataframe tbody tr th {\n",
              "        vertical-align: top;\n",
              "    }\n",
              "\n",
              "    .dataframe thead th {\n",
              "        text-align: right;\n",
              "    }\n",
              "</style>\n",
              "<table border=\"1\" class=\"dataframe\">\n",
              "  <thead>\n",
              "    <tr style=\"text-align: right;\">\n",
              "      <th>col_0</th>\n",
              "      <th>0</th>\n",
              "      <th>1</th>\n",
              "      <th>2</th>\n",
              "      <th>3</th>\n",
              "    </tr>\n",
              "    <tr>\n",
              "      <th>row_0</th>\n",
              "      <th></th>\n",
              "      <th></th>\n",
              "      <th></th>\n",
              "      <th></th>\n",
              "    </tr>\n",
              "  </thead>\n",
              "  <tbody>\n",
              "    <tr>\n",
              "      <th>1</th>\n",
              "      <td>0</td>\n",
              "      <td>0</td>\n",
              "      <td>4</td>\n",
              "      <td>0</td>\n",
              "    </tr>\n",
              "    <tr>\n",
              "      <th>2</th>\n",
              "      <td>0</td>\n",
              "      <td>8</td>\n",
              "      <td>0</td>\n",
              "      <td>1</td>\n",
              "    </tr>\n",
              "    <tr>\n",
              "      <th>3</th>\n",
              "      <td>1</td>\n",
              "      <td>0</td>\n",
              "      <td>0</td>\n",
              "      <td>6</td>\n",
              "    </tr>\n",
              "    <tr>\n",
              "      <th>4</th>\n",
              "      <td>6</td>\n",
              "      <td>0</td>\n",
              "      <td>0</td>\n",
              "      <td>3</td>\n",
              "    </tr>\n",
              "  </tbody>\n",
              "</table>\n",
              "</div>\n",
              "      <button class=\"colab-df-convert\" onclick=\"convertToInteractive('df-01b1a069-0eaa-4205-9300-3c29cf94351c')\"\n",
              "              title=\"Convert this dataframe to an interactive table.\"\n",
              "              style=\"display:none;\">\n",
              "        \n",
              "  <svg xmlns=\"http://www.w3.org/2000/svg\" height=\"24px\"viewBox=\"0 0 24 24\"\n",
              "       width=\"24px\">\n",
              "    <path d=\"M0 0h24v24H0V0z\" fill=\"none\"/>\n",
              "    <path d=\"M18.56 5.44l.94 2.06.94-2.06 2.06-.94-2.06-.94-.94-2.06-.94 2.06-2.06.94zm-11 1L8.5 8.5l.94-2.06 2.06-.94-2.06-.94L8.5 2.5l-.94 2.06-2.06.94zm10 10l.94 2.06.94-2.06 2.06-.94-2.06-.94-.94-2.06-.94 2.06-2.06.94z\"/><path d=\"M17.41 7.96l-1.37-1.37c-.4-.4-.92-.59-1.43-.59-.52 0-1.04.2-1.43.59L10.3 9.45l-7.72 7.72c-.78.78-.78 2.05 0 2.83L4 21.41c.39.39.9.59 1.41.59.51 0 1.02-.2 1.41-.59l7.78-7.78 2.81-2.81c.8-.78.8-2.07 0-2.86zM5.41 20L4 18.59l7.72-7.72 1.47 1.35L5.41 20z\"/>\n",
              "  </svg>\n",
              "      </button>\n",
              "      \n",
              "  <style>\n",
              "    .colab-df-container {\n",
              "      display:flex;\n",
              "      flex-wrap:wrap;\n",
              "      gap: 12px;\n",
              "    }\n",
              "\n",
              "    .colab-df-convert {\n",
              "      background-color: #E8F0FE;\n",
              "      border: none;\n",
              "      border-radius: 50%;\n",
              "      cursor: pointer;\n",
              "      display: none;\n",
              "      fill: #1967D2;\n",
              "      height: 32px;\n",
              "      padding: 0 0 0 0;\n",
              "      width: 32px;\n",
              "    }\n",
              "\n",
              "    .colab-df-convert:hover {\n",
              "      background-color: #E2EBFA;\n",
              "      box-shadow: 0px 1px 2px rgba(60, 64, 67, 0.3), 0px 1px 3px 1px rgba(60, 64, 67, 0.15);\n",
              "      fill: #174EA6;\n",
              "    }\n",
              "\n",
              "    [theme=dark] .colab-df-convert {\n",
              "      background-color: #3B4455;\n",
              "      fill: #D2E3FC;\n",
              "    }\n",
              "\n",
              "    [theme=dark] .colab-df-convert:hover {\n",
              "      background-color: #434B5C;\n",
              "      box-shadow: 0px 1px 3px 1px rgba(0, 0, 0, 0.15);\n",
              "      filter: drop-shadow(0px 1px 2px rgba(0, 0, 0, 0.3));\n",
              "      fill: #FFFFFF;\n",
              "    }\n",
              "  </style>\n",
              "\n",
              "      <script>\n",
              "        const buttonEl =\n",
              "          document.querySelector('#df-01b1a069-0eaa-4205-9300-3c29cf94351c button.colab-df-convert');\n",
              "        buttonEl.style.display =\n",
              "          google.colab.kernel.accessAllowed ? 'block' : 'none';\n",
              "\n",
              "        async function convertToInteractive(key) {\n",
              "          const element = document.querySelector('#df-01b1a069-0eaa-4205-9300-3c29cf94351c');\n",
              "          const dataTable =\n",
              "            await google.colab.kernel.invokeFunction('convertToInteractive',\n",
              "                                                     [key], {});\n",
              "          if (!dataTable) return;\n",
              "\n",
              "          const docLinkHtml = 'Like what you see? Visit the ' +\n",
              "            '<a target=\"_blank\" href=https://colab.research.google.com/notebooks/data_table.ipynb>data table notebook</a>'\n",
              "            + ' to learn more about interactive tables.';\n",
              "          element.innerHTML = '';\n",
              "          dataTable['output_type'] = 'display_data';\n",
              "          await google.colab.output.renderOutput(dataTable, element);\n",
              "          const docLink = document.createElement('div');\n",
              "          docLink.innerHTML = docLinkHtml;\n",
              "          element.appendChild(docLink);\n",
              "        }\n",
              "      </script>\n",
              "    </div>\n",
              "  </div>\n",
              "  "
            ]
          },
          "metadata": {},
          "execution_count": 25
        }
      ]
    },
    {
      "cell_type": "markdown",
      "source": [
        "# **2. Package Scikit-learn**"
      ],
      "metadata": {
        "id": "Z9KmebbkTbnc"
      }
    },
    {
      "cell_type": "code",
      "source": [
        "aggClustering = AgglomerativeClustering(4);\n",
        "aggClustering.fit(fromage);"
      ],
      "metadata": {
        "id": "-3rOIqusqZwY"
      },
      "execution_count": 26,
      "outputs": []
    },
    {
      "cell_type": "code",
      "source": [
        "ida = np.argsort(aggClustering.labels_)\n",
        "aggClusters = pd.DataFrame({\n",
        "    'Cluster #':aggClustering.labels_[idk],\n",
        "    'Fromage':fromage.index[idk]\n",
        "})\n",
        "print(aggClusters)"
      ],
      "metadata": {
        "colab": {
          "base_uri": "https://localhost:8080/"
        },
        "id": "NUuqZwn8qazg",
        "outputId": "0f4799f1-50d6-4b71-ccc0-d1aefd6ca43c"
      },
      "execution_count": 27,
      "outputs": [
        {
          "output_type": "stream",
          "name": "stdout",
          "text": [
            "    Cluster #             Fromage\n",
            "0           1         CarredelEst\n",
            "1           2                Tome\n",
            "2           2         PontlEveque\n",
            "3           2           Chabichou\n",
            "4           2            Chaource\n",
            "5           2         Coulomniers\n",
            "6           2  Fr.chevrepatemolle\n",
            "7           0            Beaufort\n",
            "8           0         SaintPaulin\n",
            "9           0             Cheddar\n",
            "10          0               Comte\n",
            "11          0                Edam\n",
            "12          0            Emmental\n",
            "13          0            Vacherin\n",
            "14          0            Parmesan\n",
            "15          3       Petitsuisse40\n",
            "16          3  Yaourtlaitent.nat.\n",
            "17          3      Fr.frais20nat.\n",
            "18          3      Fr.frais40nat.\n",
            "19          1           Maroilles\n",
            "20          1             Morbier\n",
            "21          0              Cantal\n",
            "22          1           Camembert\n",
            "23          2            Pyrenees\n",
            "24          2           Reblochon\n",
            "25          1          Rocquefort\n",
            "26          1                Bleu\n",
            "27          2             Babybel\n",
            "28          1         Fr.fondu.45\n"
          ]
        }
      ]
    },
    {
      "cell_type": "code",
      "source": [
        "pd.crosstab(groupes_cah,kmeans.labels_)"
      ],
      "metadata": {
        "colab": {
          "base_uri": "https://localhost:8080/",
          "height": 206
        },
        "id": "5r2HbUr8rlsP",
        "outputId": "ad359cf1-c179-4a32-e6a2-2a68466e3399"
      },
      "execution_count": 28,
      "outputs": [
        {
          "output_type": "execute_result",
          "data": {
            "text/plain": [
              "col_0  0  1  2  3\n",
              "row_0            \n",
              "1      0  0  4  0\n",
              "2      0  8  0  1\n",
              "3      1  0  0  6\n",
              "4      6  0  0  3"
            ],
            "text/html": [
              "\n",
              "  <div id=\"df-a70cc80e-9c59-4686-9340-d1d32ce9298a\">\n",
              "    <div class=\"colab-df-container\">\n",
              "      <div>\n",
              "<style scoped>\n",
              "    .dataframe tbody tr th:only-of-type {\n",
              "        vertical-align: middle;\n",
              "    }\n",
              "\n",
              "    .dataframe tbody tr th {\n",
              "        vertical-align: top;\n",
              "    }\n",
              "\n",
              "    .dataframe thead th {\n",
              "        text-align: right;\n",
              "    }\n",
              "</style>\n",
              "<table border=\"1\" class=\"dataframe\">\n",
              "  <thead>\n",
              "    <tr style=\"text-align: right;\">\n",
              "      <th>col_0</th>\n",
              "      <th>0</th>\n",
              "      <th>1</th>\n",
              "      <th>2</th>\n",
              "      <th>3</th>\n",
              "    </tr>\n",
              "    <tr>\n",
              "      <th>row_0</th>\n",
              "      <th></th>\n",
              "      <th></th>\n",
              "      <th></th>\n",
              "      <th></th>\n",
              "    </tr>\n",
              "  </thead>\n",
              "  <tbody>\n",
              "    <tr>\n",
              "      <th>1</th>\n",
              "      <td>0</td>\n",
              "      <td>0</td>\n",
              "      <td>4</td>\n",
              "      <td>0</td>\n",
              "    </tr>\n",
              "    <tr>\n",
              "      <th>2</th>\n",
              "      <td>0</td>\n",
              "      <td>8</td>\n",
              "      <td>0</td>\n",
              "      <td>1</td>\n",
              "    </tr>\n",
              "    <tr>\n",
              "      <th>3</th>\n",
              "      <td>1</td>\n",
              "      <td>0</td>\n",
              "      <td>0</td>\n",
              "      <td>6</td>\n",
              "    </tr>\n",
              "    <tr>\n",
              "      <th>4</th>\n",
              "      <td>6</td>\n",
              "      <td>0</td>\n",
              "      <td>0</td>\n",
              "      <td>3</td>\n",
              "    </tr>\n",
              "  </tbody>\n",
              "</table>\n",
              "</div>\n",
              "      <button class=\"colab-df-convert\" onclick=\"convertToInteractive('df-a70cc80e-9c59-4686-9340-d1d32ce9298a')\"\n",
              "              title=\"Convert this dataframe to an interactive table.\"\n",
              "              style=\"display:none;\">\n",
              "        \n",
              "  <svg xmlns=\"http://www.w3.org/2000/svg\" height=\"24px\"viewBox=\"0 0 24 24\"\n",
              "       width=\"24px\">\n",
              "    <path d=\"M0 0h24v24H0V0z\" fill=\"none\"/>\n",
              "    <path d=\"M18.56 5.44l.94 2.06.94-2.06 2.06-.94-2.06-.94-.94-2.06-.94 2.06-2.06.94zm-11 1L8.5 8.5l.94-2.06 2.06-.94-2.06-.94L8.5 2.5l-.94 2.06-2.06.94zm10 10l.94 2.06.94-2.06 2.06-.94-2.06-.94-.94-2.06-.94 2.06-2.06.94z\"/><path d=\"M17.41 7.96l-1.37-1.37c-.4-.4-.92-.59-1.43-.59-.52 0-1.04.2-1.43.59L10.3 9.45l-7.72 7.72c-.78.78-.78 2.05 0 2.83L4 21.41c.39.39.9.59 1.41.59.51 0 1.02-.2 1.41-.59l7.78-7.78 2.81-2.81c.8-.78.8-2.07 0-2.86zM5.41 20L4 18.59l7.72-7.72 1.47 1.35L5.41 20z\"/>\n",
              "  </svg>\n",
              "      </button>\n",
              "      \n",
              "  <style>\n",
              "    .colab-df-container {\n",
              "      display:flex;\n",
              "      flex-wrap:wrap;\n",
              "      gap: 12px;\n",
              "    }\n",
              "\n",
              "    .colab-df-convert {\n",
              "      background-color: #E8F0FE;\n",
              "      border: none;\n",
              "      border-radius: 50%;\n",
              "      cursor: pointer;\n",
              "      display: none;\n",
              "      fill: #1967D2;\n",
              "      height: 32px;\n",
              "      padding: 0 0 0 0;\n",
              "      width: 32px;\n",
              "    }\n",
              "\n",
              "    .colab-df-convert:hover {\n",
              "      background-color: #E2EBFA;\n",
              "      box-shadow: 0px 1px 2px rgba(60, 64, 67, 0.3), 0px 1px 3px 1px rgba(60, 64, 67, 0.15);\n",
              "      fill: #174EA6;\n",
              "    }\n",
              "\n",
              "    [theme=dark] .colab-df-convert {\n",
              "      background-color: #3B4455;\n",
              "      fill: #D2E3FC;\n",
              "    }\n",
              "\n",
              "    [theme=dark] .colab-df-convert:hover {\n",
              "      background-color: #434B5C;\n",
              "      box-shadow: 0px 1px 3px 1px rgba(0, 0, 0, 0.15);\n",
              "      filter: drop-shadow(0px 1px 2px rgba(0, 0, 0, 0.3));\n",
              "      fill: #FFFFFF;\n",
              "    }\n",
              "  </style>\n",
              "\n",
              "      <script>\n",
              "        const buttonEl =\n",
              "          document.querySelector('#df-a70cc80e-9c59-4686-9340-d1d32ce9298a button.colab-df-convert');\n",
              "        buttonEl.style.display =\n",
              "          google.colab.kernel.accessAllowed ? 'block' : 'none';\n",
              "\n",
              "        async function convertToInteractive(key) {\n",
              "          const element = document.querySelector('#df-a70cc80e-9c59-4686-9340-d1d32ce9298a');\n",
              "          const dataTable =\n",
              "            await google.colab.kernel.invokeFunction('convertToInteractive',\n",
              "                                                     [key], {});\n",
              "          if (!dataTable) return;\n",
              "\n",
              "          const docLinkHtml = 'Like what you see? Visit the ' +\n",
              "            '<a target=\"_blank\" href=https://colab.research.google.com/notebooks/data_table.ipynb>data table notebook</a>'\n",
              "            + ' to learn more about interactive tables.';\n",
              "          element.innerHTML = '';\n",
              "          dataTable['output_type'] = 'display_data';\n",
              "          await google.colab.output.renderOutput(dataTable, element);\n",
              "          const docLink = document.createElement('div');\n",
              "          docLink.innerHTML = docLinkHtml;\n",
              "          element.appendChild(docLink);\n",
              "        }\n",
              "      </script>\n",
              "    </div>\n",
              "  </div>\n",
              "  "
            ]
          },
          "metadata": {},
          "execution_count": 28
        }
      ]
    },
    {
      "cell_type": "markdown",
      "source": [
        "Les clusters du CAH de scikit learn sont les memes que ceux de scipy"
      ],
      "metadata": {
        "id": "rYTN42I1rxuV"
      }
    },
    {
      "cell_type": "markdown",
      "source": [
        "# **Partie 4: Interprétation des classes**\n",
        "PCA est une approche qui vise à réduire les dimensions à 2D ou à 3D d'un jeu de données, tout en gardant le maximum possible d'informations après \"fusion\" de dimensions."
      ],
      "metadata": {
        "id": "F46NYThKrz92"
      }
    },
    {
      "cell_type": "code",
      "source": [
        "#projeter dans le plan factoriel\n",
        "#avec un code couleur différent selon le groupe(cluster)\n",
        "acp= PCA(n_components =2).fit_transform(fromage)\n",
        "for couleur,k in zip(['red','blue','lawngreen', 'aqua'],[0,1,2,3]):\n",
        "    plt.scatter(acp[km.labels_==k,0],acp[km.labels_==k,1],c=couleur)\n",
        "plt.show()"
      ],
      "metadata": {
        "colab": {
          "base_uri": "https://localhost:8080/",
          "height": 265
        },
        "id": "VmX6B1ivr4kW",
        "outputId": "1894c7c1-a49b-470d-840c-e1c29d0b0c8e"
      },
      "execution_count": 29,
      "outputs": [
        {
          "output_type": "display_data",
          "data": {
            "text/plain": [
              "<Figure size 432x288 with 1 Axes>"
            ],
            "image/png": "[encoded data removed]"
          },
          "metadata": {
            "needs_background": "light"
          }
        }
      ]
    },
    {
      "cell_type": "markdown",
      "source": [
        "**Comme on l'a déduit précédemment, on trouve un cluster bien éloigné qui s'agit de celui des fromages frais (en bleu électrique). Ceci s'explique par une grande distinction entre les valeurs nutritionnelles de ces fromages et celles des autres types.**"
      ],
      "metadata": {
        "id": "CFsDjRzBr6ye"
      }
    },
    {
      "cell_type": "markdown",
      "source": [
        "# ***Divisive Clustering***"
      ],
      "metadata": {
        "id": "lPc8luwtr-9P"
      }
    },
    {
      "cell_type": "code",
      "source": [
        "res = []\n",
        "for n_clusters in range(2,len(fromage)) :\n",
        "    km = cluster.KMeans(n_clusters = n_clusters)\n",
        "    km.fit(fromage)\n",
        "    res.append(metrics.silhouette_score(fromage,km.labels_)) \n",
        "print(res)"
      ],
      "metadata": {
        "colab": {
          "base_uri": "https://localhost:8080/"
        },
        "id": "4x2Vy5z0sC_9",
        "outputId": "00048971-ff72-4eaa-927b-6c8d24a2b95a"
      },
      "execution_count": 30,
      "outputs": [
        {
          "output_type": "stream",
          "name": "stdout",
          "text": [
            "[0.5068135469058542, 0.37299770707104013, 0.3369907041718868, 0.35737615948947093, 0.30111134901675507, 0.2956534756213957, 0.2719976650516282, 0.2501888409145452, 0.269575687352818, 0.2541005951040621, 0.2643142100816868, 0.22124988776920776, 0.22774480427776397, 0.22267677026334962, 0.2200114526726967, 0.2004299255619123, 0.1635131304026138, 0.16895935790838157, 0.16968860881323772, 0.1773397636675813, 0.15669667897338196, 0.14271748290340933, 0.1246678502145519, 0.11163165863054139, 0.07949878130518177, 0.05330957947557388, 0.0400489698284847]\n"
          ]
        }
      ]
    },
    {
      "cell_type": "code",
      "source": [
        "def divisive_clustering(dataframe, n_cluster):\n",
        "    # One lonely cluster, named K to begin with\n",
        "    clusters = []\n",
        "    L = np.arange(0,len(dataframe.index))\n",
        "    clusters.append(L)\n",
        "    K = 1 \n",
        "\n",
        "    ''' \n",
        "    In this loop, we divide a chosen cluster into two clusters at each iteration.\n",
        "    The choice of cluster depends on the silhouette score. \n",
        "    \n",
        "    Indeed, at each iteration, we calculate for each cluster the silhouette score obtained if we divide this cluster into two new ones\n",
        "    clusters and we choose the cluster with the best score.\n",
        "\n",
        "    '''\n",
        "    while K != n_cluster :\n",
        "        # silhouette score list\n",
        "        scores = []\n",
        "        for clus in clusters:\n",
        "            # We set a threshold of 3 data points for each cluster\n",
        "            if len(clus) < 3 :\n",
        "                scores.append(-1)\n",
        "                continue \n",
        "            # We increment the number of clusters likewise\n",
        "            kmeans = cluster.KMeans(n_clusters = 2)\n",
        "            kmeans.fit(dataframe.iloc[clus])\n",
        "            # we compute the silhouette score\n",
        "            scores.append(metrics.silhouette_score(dataframe.iloc[clus],kmeans.labels_))\n",
        "        # The best scored cluster is chosen \n",
        "        best_score_index = scores.index(max(scores))\n",
        "        best_cluster = clusters[best_score_index]\n",
        "        # we split the cluster that we chose\n",
        "        km = cluster.KMeans(n_clusters=2)\n",
        "        km.fit(dataframe.iloc[best_cluster])\n",
        "        cluster0 = []\n",
        "        cluster1 = []\n",
        "        for i,c in enumerate(km.labels_):\n",
        "            if c == 0 :\n",
        "                cluster0.append(best_cluster[i])\n",
        "            else :\n",
        "                cluster1.append(best_cluster[i])\n",
        "        # We remove the devised cluster\n",
        "        clusters.remove(best_cluster)\n",
        "        clusters.append(cluster0)\n",
        "        clusters.append(cluster1)\n",
        "        # we can thus increment the number of clusters\n",
        "        K += 1\n",
        "        \n",
        "    return(clusters)"
      ],
      "metadata": {
        "id": "6wC62tYSsTeQ"
      },
      "execution_count": 31,
      "outputs": []
    },
    {
      "cell_type": "code",
      "source": [
        "# The function returns a list containing index lists. each index list corresponds to a cluster\n",
        "div_clus = divisive_clustering(fromage,5)\n",
        "# Printing our clusters \n",
        "for index,clus in enumerate(div_clus):\n",
        "    print('\\nCluster #{} :'.format(index+1))\n",
        "    print(fromage.index[clus])"
      ],
      "metadata": {
        "colab": {
          "base_uri": "https://localhost:8080/"
        },
        "id": "6rV92T_EsW8G",
        "outputId": "dc8b1944-5fa6-47f0-e162-88960238e89c"
      },
      "execution_count": 32,
      "outputs": [
        {
          "output_type": "stream",
          "name": "stdout",
          "text": [
            "\n",
            "Cluster #1 :\n",
            "Index(['Fr.chevrepatemolle'], dtype='object', name='Fromages')\n",
            "\n",
            "Cluster #2 :\n",
            "Index(['Fr.frais40nat.', 'Petitsuisse40'], dtype='object', name='Fromages')\n",
            "\n",
            "Cluster #3 :\n",
            "Index(['Fr.frais20nat.', 'Yaourtlaitent.nat.'], dtype='object', name='Fromages')\n",
            "\n",
            "Cluster #4 :\n",
            "Index(['Beaufort', 'Cantal', 'Cheddar', 'Comte', 'Edam', 'Emmental',\n",
            "       'Parmesan', 'SaintPaulin', 'Vacherin'],\n",
            "      dtype='object', name='Fromages')\n",
            "\n",
            "Cluster #5 :\n",
            "Index(['CarredelEst', 'Babybel', 'Bleu', 'Camembert', 'Chabichou', 'Chaource',\n",
            "       'Coulomniers', 'Fr.fondu.45', 'Maroilles', 'Morbier', 'PontlEveque',\n",
            "       'Pyrenees', 'Reblochon', 'Rocquefort', 'Tome'],\n",
            "      dtype='object', name='Fromages')\n"
          ]
        }
      ]
    }
  ]
}